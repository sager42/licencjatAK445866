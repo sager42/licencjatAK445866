{
  "nbformat": 4,
  "nbformat_minor": 0,
  "metadata": {
    "colab": {
      "provenance": []
    },
    "kernelspec": {
      "name": "python3",
      "display_name": "Python 3"
    },
    "language_info": {
      "name": "python"
    }
  },
  "cells": [
    {
      "cell_type": "markdown",
      "source": [
        "Import necessary libraries"
      ],
      "metadata": {
        "id": "QKsLe8I3eilC"
      }
    },
    {
      "cell_type": "code",
      "execution_count": null,
      "metadata": {
        "id": "P2_C49QCeQe4"
      },
      "outputs": [],
      "source": [
        "from sklearn.metrics import cohen_kappa_score\n",
        "import pandas as pd"
      ]
    },
    {
      "cell_type": "markdown",
      "source": [
        "Load dataset"
      ],
      "metadata": {
        "id": "VTqW3-sKemcz"
      }
    },
    {
      "cell_type": "code",
      "source": [
        "df = pd.read_excel(\"/content/drive/MyDrive/Studia/Licencjat/CohenCappaCalculation.xlsx\")"
      ],
      "metadata": {
        "id": "sagqLkRwei4s"
      },
      "execution_count": null,
      "outputs": []
    },
    {
      "cell_type": "code",
      "source": [
        "df['Annotator1']"
      ],
      "metadata": {
        "colab": {
          "base_uri": "https://localhost:8080/"
        },
        "id": "H_J1Qe5nff9u",
        "outputId": "9149820e-864a-4ff2-e03a-a977b35db865"
      },
      "execution_count": null,
      "outputs": [
        {
          "output_type": "execute_result",
          "data": {
            "text/plain": [
              "0       attack\n",
              "1       attack\n",
              "2       attack\n",
              "3       attack\n",
              "4       attack\n",
              "        ...   \n",
              "630    support\n",
              "631    support\n",
              "632    support\n",
              "633    support\n",
              "634    support\n",
              "Name: Annotator1, Length: 635, dtype: object"
            ]
          },
          "metadata": {},
          "execution_count": 3
        }
      ]
    },
    {
      "cell_type": "code",
      "source": [
        "Annotator1 = df['Annotator1']"
      ],
      "metadata": {
        "id": "D_s3RjSsevoj"
      },
      "execution_count": null,
      "outputs": []
    },
    {
      "cell_type": "code",
      "source": [
        "Annotator2 = df['Annotator2']"
      ],
      "metadata": {
        "id": "T7D3VPJUfPAr"
      },
      "execution_count": null,
      "outputs": []
    },
    {
      "cell_type": "code",
      "source": [
        "cohen_kappa_score(Annotator1, Annotator2)"
      ],
      "metadata": {
        "colab": {
          "base_uri": "https://localhost:8080/"
        },
        "id": "RDH5VUt_fTCL",
        "outputId": "c63dce31-e3bb-4e0d-bfa9-4df21dd70a06"
      },
      "execution_count": null,
      "outputs": [
        {
          "output_type": "execute_result",
          "data": {
            "text/plain": [
              "0.7303980194704236"
            ]
          },
          "metadata": {},
          "execution_count": 6
        }
      ]
    },
    {
      "cell_type": "code",
      "source": [],
      "metadata": {
        "id": "k_74baj3b7oA"
      },
      "execution_count": null,
      "outputs": []
    }
  ]
}
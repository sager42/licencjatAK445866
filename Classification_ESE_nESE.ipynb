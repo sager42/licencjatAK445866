{
  "cells": [
    {
      "cell_type": "markdown",
      "metadata": {
        "id": "_cCuu8gWuQCn"
      },
      "source": [
        "Download spacy library and polish language model"
      ]
    },
    {
      "cell_type": "code",
      "execution_count": null,
      "metadata": {
        "colab": {
          "base_uri": "https://localhost:8080/"
        },
        "id": "9zVJcaC2uHRO",
        "outputId": "ebb30b9b-4e17-4586-b9f6-a8f7c5773a6d"
      },
      "outputs": [
        {
          "output_type": "stream",
          "name": "stdout",
          "text": [
            "Looking in indexes: https://pypi.org/simple, https://us-python.pkg.dev/colab-wheels/public/simple/\n",
            "Requirement already satisfied: spacy in /usr/local/lib/python3.7/dist-packages (3.4.1)\n",
            "Requirement already satisfied: spacy-legacy<3.1.0,>=3.0.9 in /usr/local/lib/python3.7/dist-packages (from spacy) (3.0.10)\n",
            "Requirement already satisfied: murmurhash<1.1.0,>=0.28.0 in /usr/local/lib/python3.7/dist-packages (from spacy) (1.0.8)\n",
            "Requirement already satisfied: setuptools in /usr/local/lib/python3.7/dist-packages (from spacy) (57.4.0)\n",
            "Requirement already satisfied: jinja2 in /usr/local/lib/python3.7/dist-packages (from spacy) (2.11.3)\n",
            "Requirement already satisfied: preshed<3.1.0,>=3.0.2 in /usr/local/lib/python3.7/dist-packages (from spacy) (3.0.7)\n",
            "Requirement already satisfied: typer<0.5.0,>=0.3.0 in /usr/local/lib/python3.7/dist-packages (from spacy) (0.4.2)\n",
            "Requirement already satisfied: catalogue<2.1.0,>=2.0.6 in /usr/local/lib/python3.7/dist-packages (from spacy) (2.0.8)\n",
            "Requirement already satisfied: spacy-loggers<2.0.0,>=1.0.0 in /usr/local/lib/python3.7/dist-packages (from spacy) (1.0.3)\n",
            "Requirement already satisfied: srsly<3.0.0,>=2.4.3 in /usr/local/lib/python3.7/dist-packages (from spacy) (2.4.4)\n",
            "Requirement already satisfied: wasabi<1.1.0,>=0.9.1 in /usr/local/lib/python3.7/dist-packages (from spacy) (0.10.1)\n",
            "Requirement already satisfied: cymem<2.1.0,>=2.0.2 in /usr/local/lib/python3.7/dist-packages (from spacy) (2.0.6)\n",
            "Requirement already satisfied: pydantic!=1.8,!=1.8.1,<1.10.0,>=1.7.4 in /usr/local/lib/python3.7/dist-packages (from spacy) (1.9.2)\n",
            "Requirement already satisfied: tqdm<5.0.0,>=4.38.0 in /usr/local/lib/python3.7/dist-packages (from spacy) (4.64.1)\n",
            "Requirement already satisfied: langcodes<4.0.0,>=3.2.0 in /usr/local/lib/python3.7/dist-packages (from spacy) (3.3.0)\n",
            "Requirement already satisfied: numpy>=1.15.0 in /usr/local/lib/python3.7/dist-packages (from spacy) (1.21.6)\n",
            "Requirement already satisfied: thinc<8.2.0,>=8.1.0 in /usr/local/lib/python3.7/dist-packages (from spacy) (8.1.0)\n",
            "Requirement already satisfied: typing-extensions<4.2.0,>=3.7.4 in /usr/local/lib/python3.7/dist-packages (from spacy) (4.1.1)\n",
            "Requirement already satisfied: packaging>=20.0 in /usr/local/lib/python3.7/dist-packages (from spacy) (21.3)\n",
            "Requirement already satisfied: requests<3.0.0,>=2.13.0 in /usr/local/lib/python3.7/dist-packages (from spacy) (2.23.0)\n",
            "Requirement already satisfied: pathy>=0.3.5 in /usr/local/lib/python3.7/dist-packages (from spacy) (0.6.2)\n",
            "Requirement already satisfied: zipp>=0.5 in /usr/local/lib/python3.7/dist-packages (from catalogue<2.1.0,>=2.0.6->spacy) (3.8.1)\n",
            "Requirement already satisfied: pyparsing!=3.0.5,>=2.0.2 in /usr/local/lib/python3.7/dist-packages (from packaging>=20.0->spacy) (3.0.9)\n",
            "Requirement already satisfied: smart-open<6.0.0,>=5.2.1 in /usr/local/lib/python3.7/dist-packages (from pathy>=0.3.5->spacy) (5.2.1)\n",
            "Requirement already satisfied: idna<3,>=2.5 in /usr/local/lib/python3.7/dist-packages (from requests<3.0.0,>=2.13.0->spacy) (2.10)\n",
            "Requirement already satisfied: certifi>=2017.4.17 in /usr/local/lib/python3.7/dist-packages (from requests<3.0.0,>=2.13.0->spacy) (2022.6.15)\n",
            "Requirement already satisfied: urllib3!=1.25.0,!=1.25.1,<1.26,>=1.21.1 in /usr/local/lib/python3.7/dist-packages (from requests<3.0.0,>=2.13.0->spacy) (1.24.3)\n",
            "Requirement already satisfied: chardet<4,>=3.0.2 in /usr/local/lib/python3.7/dist-packages (from requests<3.0.0,>=2.13.0->spacy) (3.0.4)\n",
            "Requirement already satisfied: blis<0.8.0,>=0.7.8 in /usr/local/lib/python3.7/dist-packages (from thinc<8.2.0,>=8.1.0->spacy) (0.7.8)\n",
            "Requirement already satisfied: click<9.0.0,>=7.1.1 in /usr/local/lib/python3.7/dist-packages (from typer<0.5.0,>=0.3.0->spacy) (7.1.2)\n",
            "Requirement already satisfied: MarkupSafe>=0.23 in /usr/local/lib/python3.7/dist-packages (from jinja2->spacy) (2.0.1)\n",
            "2022-09-15 11:16:44.366791: E tensorflow/stream_executor/cuda/cuda_driver.cc:271] failed call to cuInit: CUDA_ERROR_NO_DEVICE: no CUDA-capable device is detected\n",
            "Looking in indexes: https://pypi.org/simple, https://us-python.pkg.dev/colab-wheels/public/simple/\n",
            "Collecting pl-core-news-sm==3.4.0\n",
            "  Downloading https://github.com/explosion/spacy-models/releases/download/pl_core_news_sm-3.4.0/pl_core_news_sm-3.4.0-py3-none-any.whl (20.1 MB)\n",
            "\u001b[K     |████████████████████████████████| 20.1 MB 2.4 MB/s \n",
            "\u001b[?25hRequirement already satisfied: spacy<3.5.0,>=3.4.0 in /usr/local/lib/python3.7/dist-packages (from pl-core-news-sm==3.4.0) (3.4.1)\n",
            "Requirement already satisfied: thinc<8.2.0,>=8.1.0 in /usr/local/lib/python3.7/dist-packages (from spacy<3.5.0,>=3.4.0->pl-core-news-sm==3.4.0) (8.1.0)\n",
            "Requirement already satisfied: cymem<2.1.0,>=2.0.2 in /usr/local/lib/python3.7/dist-packages (from spacy<3.5.0,>=3.4.0->pl-core-news-sm==3.4.0) (2.0.6)\n",
            "Requirement already satisfied: packaging>=20.0 in /usr/local/lib/python3.7/dist-packages (from spacy<3.5.0,>=3.4.0->pl-core-news-sm==3.4.0) (21.3)\n",
            "Requirement already satisfied: spacy-loggers<2.0.0,>=1.0.0 in /usr/local/lib/python3.7/dist-packages (from spacy<3.5.0,>=3.4.0->pl-core-news-sm==3.4.0) (1.0.3)\n",
            "Requirement already satisfied: tqdm<5.0.0,>=4.38.0 in /usr/local/lib/python3.7/dist-packages (from spacy<3.5.0,>=3.4.0->pl-core-news-sm==3.4.0) (4.64.1)\n",
            "Requirement already satisfied: requests<3.0.0,>=2.13.0 in /usr/local/lib/python3.7/dist-packages (from spacy<3.5.0,>=3.4.0->pl-core-news-sm==3.4.0) (2.23.0)\n",
            "Requirement already satisfied: spacy-legacy<3.1.0,>=3.0.9 in /usr/local/lib/python3.7/dist-packages (from spacy<3.5.0,>=3.4.0->pl-core-news-sm==3.4.0) (3.0.10)\n",
            "Requirement already satisfied: typing-extensions<4.2.0,>=3.7.4 in /usr/local/lib/python3.7/dist-packages (from spacy<3.5.0,>=3.4.0->pl-core-news-sm==3.4.0) (4.1.1)\n",
            "Requirement already satisfied: preshed<3.1.0,>=3.0.2 in /usr/local/lib/python3.7/dist-packages (from spacy<3.5.0,>=3.4.0->pl-core-news-sm==3.4.0) (3.0.7)\n",
            "Requirement already satisfied: numpy>=1.15.0 in /usr/local/lib/python3.7/dist-packages (from spacy<3.5.0,>=3.4.0->pl-core-news-sm==3.4.0) (1.21.6)\n",
            "Requirement already satisfied: pydantic!=1.8,!=1.8.1,<1.10.0,>=1.7.4 in /usr/local/lib/python3.7/dist-packages (from spacy<3.5.0,>=3.4.0->pl-core-news-sm==3.4.0) (1.9.2)\n",
            "Requirement already satisfied: wasabi<1.1.0,>=0.9.1 in /usr/local/lib/python3.7/dist-packages (from spacy<3.5.0,>=3.4.0->pl-core-news-sm==3.4.0) (0.10.1)\n",
            "Requirement already satisfied: pathy>=0.3.5 in /usr/local/lib/python3.7/dist-packages (from spacy<3.5.0,>=3.4.0->pl-core-news-sm==3.4.0) (0.6.2)\n",
            "Requirement already satisfied: jinja2 in /usr/local/lib/python3.7/dist-packages (from spacy<3.5.0,>=3.4.0->pl-core-news-sm==3.4.0) (2.11.3)\n",
            "Requirement already satisfied: catalogue<2.1.0,>=2.0.6 in /usr/local/lib/python3.7/dist-packages (from spacy<3.5.0,>=3.4.0->pl-core-news-sm==3.4.0) (2.0.8)\n",
            "Requirement already satisfied: setuptools in /usr/local/lib/python3.7/dist-packages (from spacy<3.5.0,>=3.4.0->pl-core-news-sm==3.4.0) (57.4.0)\n",
            "Requirement already satisfied: murmurhash<1.1.0,>=0.28.0 in /usr/local/lib/python3.7/dist-packages (from spacy<3.5.0,>=3.4.0->pl-core-news-sm==3.4.0) (1.0.8)\n",
            "Requirement already satisfied: srsly<3.0.0,>=2.4.3 in /usr/local/lib/python3.7/dist-packages (from spacy<3.5.0,>=3.4.0->pl-core-news-sm==3.4.0) (2.4.4)\n",
            "Requirement already satisfied: langcodes<4.0.0,>=3.2.0 in /usr/local/lib/python3.7/dist-packages (from spacy<3.5.0,>=3.4.0->pl-core-news-sm==3.4.0) (3.3.0)\n",
            "Requirement already satisfied: typer<0.5.0,>=0.3.0 in /usr/local/lib/python3.7/dist-packages (from spacy<3.5.0,>=3.4.0->pl-core-news-sm==3.4.0) (0.4.2)\n",
            "Requirement already satisfied: zipp>=0.5 in /usr/local/lib/python3.7/dist-packages (from catalogue<2.1.0,>=2.0.6->spacy<3.5.0,>=3.4.0->pl-core-news-sm==3.4.0) (3.8.1)\n",
            "Requirement already satisfied: pyparsing!=3.0.5,>=2.0.2 in /usr/local/lib/python3.7/dist-packages (from packaging>=20.0->spacy<3.5.0,>=3.4.0->pl-core-news-sm==3.4.0) (3.0.9)\n",
            "Requirement already satisfied: smart-open<6.0.0,>=5.2.1 in /usr/local/lib/python3.7/dist-packages (from pathy>=0.3.5->spacy<3.5.0,>=3.4.0->pl-core-news-sm==3.4.0) (5.2.1)\n",
            "Requirement already satisfied: chardet<4,>=3.0.2 in /usr/local/lib/python3.7/dist-packages (from requests<3.0.0,>=2.13.0->spacy<3.5.0,>=3.4.0->pl-core-news-sm==3.4.0) (3.0.4)\n",
            "Requirement already satisfied: urllib3!=1.25.0,!=1.25.1,<1.26,>=1.21.1 in /usr/local/lib/python3.7/dist-packages (from requests<3.0.0,>=2.13.0->spacy<3.5.0,>=3.4.0->pl-core-news-sm==3.4.0) (1.24.3)\n",
            "Requirement already satisfied: idna<3,>=2.5 in /usr/local/lib/python3.7/dist-packages (from requests<3.0.0,>=2.13.0->spacy<3.5.0,>=3.4.0->pl-core-news-sm==3.4.0) (2.10)\n",
            "Requirement already satisfied: certifi>=2017.4.17 in /usr/local/lib/python3.7/dist-packages (from requests<3.0.0,>=2.13.0->spacy<3.5.0,>=3.4.0->pl-core-news-sm==3.4.0) (2022.6.15)\n",
            "Requirement already satisfied: blis<0.8.0,>=0.7.8 in /usr/local/lib/python3.7/dist-packages (from thinc<8.2.0,>=8.1.0->spacy<3.5.0,>=3.4.0->pl-core-news-sm==3.4.0) (0.7.8)\n",
            "Requirement already satisfied: click<9.0.0,>=7.1.1 in /usr/local/lib/python3.7/dist-packages (from typer<0.5.0,>=0.3.0->spacy<3.5.0,>=3.4.0->pl-core-news-sm==3.4.0) (7.1.2)\n",
            "Requirement already satisfied: MarkupSafe>=0.23 in /usr/local/lib/python3.7/dist-packages (from jinja2->spacy<3.5.0,>=3.4.0->pl-core-news-sm==3.4.0) (2.0.1)\n",
            "Installing collected packages: pl-core-news-sm\n",
            "Successfully installed pl-core-news-sm-3.4.0\n",
            "\u001b[38;5;2m✔ Download and installation successful\u001b[0m\n",
            "You can now load the package via spacy.load('pl_core_news_sm')\n"
          ]
        }
      ],
      "source": [
        "!pip install --upgrade spacy\n",
        "!python -m spacy download pl_core_news_sm"
      ]
    },
    {
      "cell_type": "markdown",
      "metadata": {
        "id": "BIczcX-Suel2"
      },
      "source": [
        "Import necessary libraries"
      ]
    },
    {
      "cell_type": "code",
      "execution_count": null,
      "metadata": {
        "id": "0832hhSVM0jJ"
      },
      "outputs": [],
      "source": [
        "import pandas as pd\n",
        "import numpy as np\n",
        "import spacy\n",
        "from sklearn.model_selection import train_test_split\n",
        "from sklearn.pipeline import Pipeline\n",
        "from sklearn.feature_extraction.text import TfidfVectorizer\n",
        "from sklearn.naive_bayes import MultinomialNB\n",
        "from sklearn import model_selection, naive_bayes, svm\n",
        "from sklearn.compose import ColumnTransformer\n",
        "from sklearn import metrics\n",
        "from sklearn.preprocessing import FunctionTransformer\n",
        "from sklearn.decomposition import TruncatedSVD, PCA\n",
        "from sklearn.decomposition import NMF\n",
        "from sklearn.ensemble import RandomForestClassifier\n",
        "from sklearn.metrics import f1_score, precision_score, recall_score\n",
        "import numpy as np\n",
        "from sklearn import metrics\n",
        "import matplotlib.pyplot as plt\n",
        "import numpy as np\n",
        "from sklearn import metrics\n",
        "import matplotlib.pyplot as plt\n",
        "from sklearn.linear_model import LogisticRegression\n",
        "from sklearn.dummy import DummyClassifier\n",
        "from sklearn.linear_model import LogisticRegression"
      ]
    },
    {
      "cell_type": "markdown",
      "source": [
        "Load polish language model"
      ],
      "metadata": {
        "id": "YSueEqbvX4GZ"
      }
    },
    {
      "cell_type": "code",
      "execution_count": null,
      "metadata": {
        "id": "gjXAg_iGuY6x"
      },
      "outputs": [],
      "source": [
        "\n",
        "nlp = spacy.load(\"pl_core_news_sm\")\n",
        "STOP_WORDS = spacy.lang.pl.STOP_WORDS"
      ]
    },
    {
      "cell_type": "markdown",
      "source": [
        "Load dataset and make basic checks on counts"
      ],
      "metadata": {
        "id": "9sNh8z0wX7eM"
      }
    },
    {
      "cell_type": "code",
      "execution_count": null,
      "metadata": {
        "id": "Ozeh66xS5xL7"
      },
      "outputs": [],
      "source": [
        "df = pd.read_excel(\"/content/drive/MyDrive/Licencjat/DF_rich.xlsx\")"
      ]
    },
    {
      "cell_type": "code",
      "execution_count": null,
      "metadata": {
        "id": "-CvSw1Pb8P9u"
      },
      "outputs": [],
      "source": [
        "df = df.sort_values(\"ESE\", ascending= False)"
      ]
    },
    {
      "cell_type": "code",
      "execution_count": null,
      "metadata": {
        "colab": {
          "base_uri": "https://localhost:8080/"
        },
        "id": "N36Y_1eNuivb",
        "outputId": "bddfd775-4312-46cf-d0a2-b2eced9ef6d3"
      },
      "outputs": [
        {
          "output_type": "execute_result",
          "data": {
            "text/plain": [
              "0.0    1114\n",
              "1.0     504\n",
              "Name: ESE, dtype: int64"
            ]
          },
          "metadata": {},
          "execution_count": 6
        }
      ],
      "source": [
        "df[\"ESE\"].value_counts()"
      ]
    },
    {
      "cell_type": "code",
      "execution_count": null,
      "metadata": {
        "id": "hS-T4NSq5-E-"
      },
      "outputs": [],
      "source": [
        "#I specifically choose data to make 50/50 ESE+/ESE- to balance the dataset\n",
        "X = df[:1008]['NO-person'].copy().reset_index(drop=True)\n",
        "Z = df[:1008]['raw'].copy().reset_index(drop=True)\n",
        "y = df[:1008]['ESE'].copy().reset_index(drop=True)\n"
      ]
    },
    {
      "cell_type": "code",
      "execution_count": null,
      "metadata": {
        "colab": {
          "base_uri": "https://localhost:8080/"
        },
        "id": "W-t8FAWLCiUP",
        "outputId": "a8195ad8-8257-43ea-a85d-6bbe5784a73b"
      },
      "outputs": [
        {
          "output_type": "stream",
          "name": "stdout",
          "text": [
            "(1008,) (1008,)\n"
          ]
        }
      ],
      "source": [
        "print(y.shape, X.shape)"
      ]
    },
    {
      "cell_type": "code",
      "execution_count": null,
      "metadata": {
        "colab": {
          "base_uri": "https://localhost:8080/"
        },
        "id": "9z3p1xYut2-T",
        "outputId": "854a5958-de30-4c04-8938-1b2ad2e0c5fa"
      },
      "outputs": [
        {
          "output_type": "execute_result",
          "data": {
            "text/plain": [
              "count                                                  1008\n",
              "unique                                                  974\n",
              "top         był w obozie tych, którzy przesuwali kompete...\n",
              "freq                                                      7\n",
              "Name: NO-person, dtype: object"
            ]
          },
          "metadata": {},
          "execution_count": 10
        }
      ],
      "source": [
        "X.describe()\n",
        "\n"
      ]
    },
    {
      "cell_type": "markdown",
      "source": [
        "Create lemmatization and part of speech functions"
      ],
      "metadata": {
        "id": "6mQ54B_RYTkW"
      }
    },
    {
      "cell_type": "code",
      "execution_count": null,
      "metadata": {
        "id": "VmiCgIDNuwwL"
      },
      "outputs": [],
      "source": [
        "def spacy_lemmatizer(X):\n",
        "  X = X.apply(lambda row: \" \".join([w.lemma_ for w in nlp(row) if not w.is_punct]))\n",
        "  return X\n",
        "\n",
        "\n",
        "def spacy_pos(X):\n",
        "  X = X.apply(lambda row: \" \".join([w.pos_ for w in nlp(row)]))\n",
        "  return X\n",
        "\n"
      ]
    },
    {
      "cell_type": "code",
      "execution_count": null,
      "metadata": {
        "colab": {
          "base_uri": "https://localhost:8080/"
        },
        "id": "6YJ5v9HxRPQB",
        "outputId": "6019fd88-d89b-45b6-bbd8-449311a3453d"
      },
      "outputs": [
        {
          "output_type": "execute_result",
          "data": {
            "text/plain": [
              "0        PiS i PO nie zajmują się zdobywaniem funduszy...\n",
              "1       panie prezydencie, pan przez 5 lat nie przyjec...\n",
              "2        jako  będzie intensywnie pracował nad tym, że...\n",
              "3       polscy przedsiębiorcy teraz są poddani eksterm...\n",
              "4        zapowiedział wczoraj, że w ramach rozdziału K...\n",
              "                              ...                        \n",
              "1003    mamy prawo wiedzieć, czy dzieci wrócą do szkół...\n",
              "1004      dzisiaj trzeba zadawać trudne pytania rządzącym\n",
              "1005                                     I tańsze państwo\n",
              "1006             dla Polek i Polaków niewiele się zmienia\n",
              "1007          w Polsce szybciej przyjmiemy ruble niż euro\n",
              "Name: NO-person, Length: 1008, dtype: object"
            ]
          },
          "metadata": {},
          "execution_count": 12
        }
      ],
      "source": [
        "X"
      ]
    },
    {
      "cell_type": "markdown",
      "source": [
        "Create train and test datasets"
      ],
      "metadata": {
        "id": "oxLTwaexYXXN"
      }
    },
    {
      "cell_type": "code",
      "execution_count": null,
      "metadata": {
        "id": "XoabCdwKKr-R"
      },
      "outputs": [],
      "source": [
        "X_train, X_test, y_train, y_test = train_test_split(X,y,test_size = 0.33, random_state = 42)\n",
        "Z_train, Z_test, a_train, a_test = train_test_split(Z,y,test_size = 0.33, random_state = 42)"
      ]
    },
    {
      "cell_type": "code",
      "execution_count": null,
      "metadata": {
        "colab": {
          "base_uri": "https://localhost:8080/"
        },
        "id": "ri7l9M0_Nlqv",
        "outputId": "51629935-332f-4184-a332-cf17035a68da"
      },
      "outputs": [
        {
          "output_type": "execute_result",
          "data": {
            "text/plain": [
              "count                                                   675\n",
              "unique                                                  656\n",
              "top         był w obozie tych, którzy przesuwali kompete...\n",
              "freq                                                      5\n",
              "Name: NO-person, dtype: object"
            ]
          },
          "metadata": {},
          "execution_count": 16
        }
      ],
      "source": [
        "X_train.describe()"
      ]
    },
    {
      "cell_type": "markdown",
      "source": [
        "\n",
        "# Lemma analysis and machine learning classification"
      ],
      "metadata": {
        "id": "YVOBlwt_Yr14"
      }
    },
    {
      "cell_type": "markdown",
      "source": [
        "Create dummy classifier for baseline"
      ],
      "metadata": {
        "id": "et9ksPRtZNU7"
      }
    },
    {
      "cell_type": "code",
      "execution_count": null,
      "metadata": {
        "id": "x6ihtgHFZfzX"
      },
      "outputs": [],
      "source": [
        "dummy_clf = DummyClassifier(strategy=\"uniform\")"
      ]
    },
    {
      "cell_type": "code",
      "execution_count": null,
      "metadata": {
        "colab": {
          "base_uri": "https://localhost:8080/"
        },
        "id": "TkPOFuUYZm0o",
        "outputId": "5adc77fc-7ab3-4fdb-959e-90772b9e8242"
      },
      "outputs": [
        {
          "output_type": "stream",
          "name": "stdout",
          "text": [
            "Accuracy = 0.46546546546546547\n",
            "Precision = 0.4819277108433735\n",
            "Recall = 0.46511627906976744\n",
            "F1 score = 0.4733727810650888\n"
          ]
        }
      ],
      "source": [
        "dummy_clf.fit(X_train,y_train)\n",
        "pred=dummy_clf.predict(X_test)\n",
        "print(\"Accuracy = \"+str(metrics.accuracy_score(y_test, pred)))\n",
        "print(\"Precision = \"+str(metrics.precision_score(y_test, pred)))\n",
        "print(\"Recall = \"+str(metrics.recall_score(y_test, pred)))\n",
        "# f1 score\n",
        "print(\"F1 score = \"+ str(f1_score(y_test, pred)))"
      ]
    },
    {
      "cell_type": "markdown",
      "source": [
        "Create SVC model. Train it on lemmatized data and test the score."
      ],
      "metadata": {
        "id": "QF0dZwqEYjVF"
      }
    },
    {
      "cell_type": "code",
      "execution_count": null,
      "metadata": {
        "colab": {
          "base_uri": "https://localhost:8080/"
        },
        "id": "XFzZKrNGKnsa",
        "outputId": "e778cf35-c51b-4b73-9deb-efe7fd397738"
      },
      "outputs": [
        {
          "output_type": "stream",
          "name": "stdout",
          "text": [
            "[[118  43]\n",
            " [ 61 111]]\n",
            "Accuracy = 0.6876876876876877\n",
            "Precision = 0.7207792207792207\n",
            "Recall = 0.6453488372093024\n",
            "F1 score = 0.6809815950920245\n"
          ]
        }
      ],
      "source": [
        "#pierwszy algorytm SVC; liczba komponentów 500?\n",
        "text_clf_svc = Pipeline([(\"custom_function spacy\", FunctionTransformer(spacy_lemmatizer)), ('tfidf', TfidfVectorizer()),('PCA-TruncatedSVD', TruncatedSVD(n_components=500)), ('clf', svm.SVC(probability=True))])\n",
        "text_clf_svc.fit(X_train,y_train)\n",
        "predictions = text_clf_svc.predict(X_test)\n",
        "predictions_train_LEM_SVC = text_clf_svc.predict_proba(X_train)\n",
        "predictions_test_LEM_SVC = text_clf_svc.predict_proba(X_test)\n",
        "print(metrics.confusion_matrix(y_test, predictions))\n",
        "# Print the overall accuracy\n",
        "print(\"Accuracy = \"+str(metrics.accuracy_score(y_test, predictions)))\n",
        "print(\"Precision = \"+str(metrics.precision_score(y_test, predictions)))\n",
        "print(\"Recall = \"+str(metrics.recall_score(y_test, predictions)))\n",
        "# f1 score\n",
        "print(\"F1 score = \"+ str(f1_score(y_test, predictions)))"
      ]
    },
    {
      "cell_type": "markdown",
      "source": [
        "Create variables to plot ROC curve to visualize data"
      ],
      "metadata": {
        "id": "QdTmzaURYyQs"
      }
    },
    {
      "cell_type": "code",
      "source": [
        "fpr, tpr, thresholds = metrics.roc_curve(y_test,predictions)\n",
        "roc_auc = metrics.auc(fpr, tpr)"
      ],
      "metadata": {
        "id": "MKDxxMTv3q0g"
      },
      "execution_count": null,
      "outputs": []
    },
    {
      "cell_type": "code",
      "source": [
        "plt.figure()\n",
        "lw = 2\n",
        "plt.plot(\n",
        "    fpr,\n",
        "    tpr,\n",
        "    color=\"darkorange\",\n",
        "    lw=lw,\n",
        "    label=\"ROC curve (area = %0.2f)\" %roc_auc\n",
        ")\n",
        "plt.plot([0, 1], [0, 1], color=\"navy\", lw=lw, linestyle=\"--\")\n",
        "plt.xlim([0.0, 1.0])\n",
        "plt.ylim([0.0, 1.05])\n",
        "plt.xlabel(\"False Positive Rate\")\n",
        "plt.ylabel(\"True Positive Rate\")\n",
        "plt.title(\"Receiver operating characteristic example\")\n",
        "plt.legend(loc=\"lower right\")\n",
        "plt.show()"
      ],
      "metadata": {
        "colab": {
          "base_uri": "https://localhost:8080/",
          "height": 295
        },
        "id": "lp6N3-4U4aU5",
        "outputId": "3de47dcc-e806-4d22-df5f-5e63861c27fa"
      },
      "execution_count": null,
      "outputs": [
        {
          "output_type": "display_data",
          "data": {
            "text/plain": [
              "<Figure size 432x288 with 1 Axes>"
            ],
            "image/png": "[encoded data removed]"
          },
          "metadata": {
            "needs_background": "light"
          }
        }
      ]
    },
    {
      "cell_type": "markdown",
      "source": [
        "Create Multinomial Naive Bayes model. Train it on lemmatized data and test the score."
      ],
      "metadata": {
        "id": "fRS1Ey65Y7Ci"
      }
    },
    {
      "cell_type": "code",
      "execution_count": null,
      "metadata": {
        "colab": {
          "base_uri": "https://localhost:8080/"
        },
        "id": "pWDgVTobO6-q",
        "outputId": "3cca87c2-4a34-4a71-ba3d-5162453b1171"
      },
      "outputs": [
        {
          "output_type": "stream",
          "name": "stdout",
          "text": [
            "[[118  43]\n",
            " [ 63 109]]\n",
            "Accuracy = 0.6816816816816816\n",
            "Precision = 0.7171052631578947\n",
            "Recall = 0.6337209302325582\n",
            "F1 score = 0.6728395061728395\n"
          ]
        }
      ],
      "source": [
        "#Multinomial NaiveBayes\n",
        "text_clf_nb = Pipeline([(\"custom_function spacy\", FunctionTransformer(spacy_lemmatizer)),('tfidf', TfidfVectorizer()), ('clf', MultinomialNB(alpha=0.01))])\n",
        "text_clf_nb.fit(X_train,y_train)\n",
        "predictions = text_clf_nb.predict(X_test)\n",
        "predictions_train_LEM_NB = text_clf_svc.predict_proba(Z_train)\n",
        "predictions_test_LEM_NB = text_clf_svc.predict_proba(Z_test)\n",
        "print(metrics.confusion_matrix(y_test, predictions))\n",
        "# Print the overall accuracy\n",
        "print(\"Accuracy = \"+str(metrics.accuracy_score(y_test, predictions)))\n",
        "print(\"Precision = \"+str(metrics.precision_score(y_test, predictions)))\n",
        "print(\"Recall = \"+str(metrics.recall_score(y_test, predictions)))\n",
        "# f1 score\n",
        "print(\"F1 score = \"+ str(f1_score(y_test, predictions)))"
      ]
    },
    {
      "cell_type": "markdown",
      "source": [
        "Create Maximum Entrophy model. Train it on lemmatized data and test the score."
      ],
      "metadata": {
        "id": "KR0Kg9wQZD5n"
      }
    },
    {
      "cell_type": "code",
      "execution_count": null,
      "metadata": {
        "colab": {
          "base_uri": "https://localhost:8080/"
        },
        "id": "FqfOzpHVfYQc",
        "outputId": "bcc9aad8-b628-45fd-a075-d7006e5682a6"
      },
      "outputs": [
        {
          "output_type": "stream",
          "name": "stdout",
          "text": [
            "[[103  58]\n",
            " [ 56 116]]\n",
            "Accuracy = 0.6576576576576577\n",
            "Precision = 0.6666666666666666\n",
            "Recall = 0.6744186046511628\n",
            "F1 score = 0.6705202312138728\n"
          ]
        }
      ],
      "source": [
        "#Maximum Entrophy\n",
        "text_clf_RF = Pipeline([('tfidf', TfidfVectorizer()),('PCA-TruncatedSVD', TruncatedSVD(n_components=500)),('clf', LogisticRegression(penalty = 'none'))])\n",
        "text_clf_RF.fit(X_train,y_train)\n",
        "predictions = text_clf_RF.predict(X_test)\n",
        "predictions_train_LEM_LR = text_clf_RF.predict_proba(X_train)\n",
        "predictions_test_LEM_LR = text_clf_RF.predict_proba(X_test)\n",
        "print(metrics.confusion_matrix(a_test, predictions))\n",
        "# Print the overall accuracy\n",
        "print(\"Accuracy = \"+str(metrics.accuracy_score(y_test, predictions)))\n",
        "print(\"Precision = \"+str(metrics.precision_score(y_test, predictions)))\n",
        "print(\"Recall = \"+str(metrics.recall_score(y_test, predictions)))\n",
        "# f1 score\n",
        "print(\"F1 score = \"+ str(f1_score(y_test, predictions)))"
      ]
    },
    {
      "cell_type": "markdown",
      "metadata": {
        "id": "TmYIJ3tvBSfw"
      },
      "source": [
        "\n",
        "# POS analysis and machine learning classification"
      ]
    },
    {
      "cell_type": "markdown",
      "source": [
        "Create SVC model. Train it on POS data and test the score."
      ],
      "metadata": {
        "id": "54DTlOAYZYTv"
      }
    },
    {
      "cell_type": "code",
      "execution_count": null,
      "metadata": {
        "colab": {
          "base_uri": "https://localhost:8080/"
        },
        "id": "cuHyjhxmaGGw",
        "outputId": "1f8048aa-501f-4403-d879-a453b1fd7bc6"
      },
      "outputs": [
        {
          "output_type": "stream",
          "name": "stdout",
          "text": [
            "[[95 66]\n",
            " [74 98]]\n",
            "Accuracy = 0.5795795795795796\n",
            "Precision = 0.5975609756097561\n",
            "Recall = 0.5697674418604651\n",
            "F1 score = 0.5833333333333334\n"
          ]
        }
      ],
      "source": [
        "#SVC\n",
        "text_clf_svc = Pipeline([(\"custom_function spacy\", FunctionTransformer(spacy_pos)),('tfidf', TfidfVectorizer()), ('clf', svm.SVC(probability=True))])\n",
        "text_clf_svc.fit(Z_train,a_train)\n",
        "predictions = text_clf_svc.predict(Z_test)\n",
        "predictions_train_POS_SVC = text_clf_svc.predict_proba(Z_train)\n",
        "predictions_test_POS_SVC = text_clf_svc.predict_proba(Z_test)\n",
        "print(metrics.confusion_matrix(a_test, predictions))\n",
        "# Print the overall accuracy\n",
        "print(\"Accuracy = \"+str(metrics.accuracy_score(y_test, predictions)))\n",
        "print(\"Precision = \"+str(metrics.precision_score(y_test, predictions)))\n",
        "print(\"Recall = \"+str(metrics.recall_score(y_test, predictions)))\n",
        "# f1 score\n",
        "print(\"F1 score = \"+ str(f1_score(y_test, predictions)))"
      ]
    },
    {
      "cell_type": "markdown",
      "source": [
        "Create Multinomial Naive Bayes model. Train it on POS data and test the score."
      ],
      "metadata": {
        "id": "c-AQ5gJ9ZaSI"
      }
    },
    {
      "cell_type": "code",
      "execution_count": null,
      "metadata": {
        "colab": {
          "base_uri": "https://localhost:8080/"
        },
        "id": "oD4dc3pxmr2N",
        "outputId": "11607996-191f-44b9-e62e-df84febe705c"
      },
      "outputs": [
        {
          "output_type": "stream",
          "name": "stdout",
          "text": [
            "[[98 63]\n",
            " [79 93]]\n",
            "Accuracy = 0.5735735735735735\n",
            "Precision = 0.5961538461538461\n",
            "Recall = 0.5406976744186046\n",
            "F1 score = 0.5670731707317073\n"
          ]
        }
      ],
      "source": [
        "#MultinomialNB\n",
        "text_clf_svc = Pipeline([(\"custom_function spacy\", FunctionTransformer(spacy_pos)),('tfidf', TfidfVectorizer()), ('clf', MultinomialNB(alpha=0.01))])\n",
        "text_clf_svc.fit(Z_train,a_train)\n",
        "predictions = text_clf_svc.predict(Z_test)\n",
        "predictions_train_POS_NB = text_clf_svc.predict_proba(Z_train)\n",
        "predictions_test_POS_NB = text_clf_svc.predict_proba(Z_test)\n",
        "print(metrics.confusion_matrix(a_test, predictions))\n",
        "# Print the overall accuracy\n",
        "print(\"Accuracy = \"+str(metrics.accuracy_score(y_test, predictions)))\n",
        "print(\"Precision = \"+str(metrics.precision_score(y_test, predictions)))\n",
        "print(\"Recall = \"+str(metrics.recall_score(y_test, predictions)))\n",
        "# f1 score\n",
        "print(\"F1 score = \"+ str(f1_score(y_test, predictions)))"
      ]
    },
    {
      "cell_type": "markdown",
      "source": [
        "Create Maximum Entrophy model. Train it on POS data and test the score."
      ],
      "metadata": {
        "id": "VV05aGtWZlTn"
      }
    },
    {
      "cell_type": "code",
      "execution_count": null,
      "metadata": {
        "colab": {
          "base_uri": "https://localhost:8080/"
        },
        "id": "j0kXbfB3wtP6",
        "outputId": "55351a14-cef1-489b-bacf-7c394be0eec0"
      },
      "outputs": [
        {
          "output_type": "stream",
          "name": "stdout",
          "text": [
            "[[ 94  67]\n",
            " [ 71 101]]\n",
            "Accuracy = 0.5855855855855856\n",
            "Precision = 0.6011904761904762\n",
            "Recall = 0.5872093023255814\n",
            "F1 score = 0.5941176470588235\n"
          ]
        }
      ],
      "source": [
        "#Maximum Entrophy\n",
        "text_clf_svc = Pipeline([(\"custom_function spacy\", FunctionTransformer(spacy_pos)),('tfidf', TfidfVectorizer()), ('clf', LogisticRegression())])\n",
        "text_clf_svc.fit(Z_train,a_train)\n",
        "predictions = text_clf_svc.predict(Z_test)\n",
        "predictions_train_POS_LR = text_clf_svc.predict_proba(Z_train)\n",
        "predictions_test_POS_LR = text_clf_svc.predict_proba(Z_test)\n",
        "print(metrics.confusion_matrix(a_test, predictions))\n",
        "# Print the overall accuracy\n",
        "print(\"Accuracy = \"+str(metrics.accuracy_score(y_test, predictions)))\n",
        "print(\"Precision = \"+str(metrics.precision_score(y_test, predictions)))\n",
        "print(\"Recall = \"+str(metrics.recall_score(y_test, predictions)))\n",
        "# f1 score\n",
        "print(\"F1 score = \"+ str(f1_score(y_test, predictions)))"
      ]
    },
    {
      "cell_type": "markdown",
      "source": [
        "#Meta models using \"stacking\" - that means joining results from previous lemma and POS classification and using another model to predict class based on the results of previous models."
      ],
      "metadata": {
        "id": "33K0c1nTZnZS"
      }
    },
    {
      "cell_type": "code",
      "execution_count": null,
      "metadata": {
        "id": "ZcAMqUEEBfhz"
      },
      "outputs": [],
      "source": [
        "new_train=pd.merge(pd.DataFrame(predictions_train_POS_SVC[:,0],columns=['POS']),pd.DataFrame(predictions_train_LEM_SVC[:,0],columns=['LEM']),left_index=True, right_index=True)\n",
        "new_test = pd.merge(pd.DataFrame(predictions_test_POS_SVC[:,0],columns=['POS']),pd.DataFrame(predictions_test_LEM_SVC[:,0],columns=['LEM']),left_index=True, right_index=True)"
      ]
    },
    {
      "cell_type": "markdown",
      "source": [
        "Create meta model train and test set"
      ],
      "metadata": {
        "id": "Is1nK_wbZpT5"
      }
    },
    {
      "cell_type": "code",
      "source": [
        "def ensemble_set(A_POS,B_LEM):\n",
        "  return pd.merge(pd.DataFrame(A_POS[:,0],columns=['POS']),pd.DataFrame(B_LEM[:,0],columns=['LEM']),left_index=True, right_index=True)"
      ],
      "metadata": {
        "id": "P_04tnDseSE6"
      },
      "execution_count": null,
      "outputs": []
    },
    {
      "cell_type": "code",
      "execution_count": null,
      "metadata": {
        "id": "zUY6mXa5F5NE"
      },
      "outputs": [],
      "source": [
        "new_train = ensemble_set(predictions_train_POS_LR,predictions_train_LEM_SVC)\n",
        "new_test = ensemble_set(predictions_test_POS_LR,predictions_test_LEM_SVC)"
      ]
    },
    {
      "cell_type": "markdown",
      "source": [
        "Create SVC model. Train it on meta data and test the score."
      ],
      "metadata": {
        "id": "8aIypVRAZuib"
      }
    },
    {
      "cell_type": "code",
      "execution_count": null,
      "metadata": {
        "colab": {
          "base_uri": "https://localhost:8080/"
        },
        "id": "e0sthwy_Ckts",
        "outputId": "9cc9e873-817c-4f1c-f867-e4255a02b235"
      },
      "outputs": [
        {
          "output_type": "stream",
          "name": "stdout",
          "text": [
            "[[112  49]\n",
            " [ 50 122]]\n",
            "Accuracy = 0.7027027027027027\n",
            "Precision = 0.7134502923976608\n",
            "Recall = 0.7093023255813954\n",
            "F1 score = 0.7113702623906706\n"
          ]
        }
      ],
      "source": [
        "#SVC\n",
        "text_clf_svc_new = svm.SVC()\n",
        "text_clf_svc_new.fit(new_train,y_train)\n",
        "predictions = text_clf_svc_new.predict(new_test)\n",
        "print(metrics.confusion_matrix(y_test, predictions))\n",
        "# Print the overall accuracy\n",
        "print(\"Accuracy = \"+str(metrics.accuracy_score(y_test, predictions)))\n",
        "print(\"Precision = \"+str(metrics.precision_score(y_test, predictions)))\n",
        "print(\"Recall = \"+str(metrics.recall_score(y_test, predictions)))\n",
        "# f1 score\n",
        "print(\"F1 score = \"+ str(f1_score(y_test, predictions)))"
      ]
    },
    {
      "cell_type": "markdown",
      "source": [
        "Create Multinomial Naive Bayes model. Train it on POS data and test the score."
      ],
      "metadata": {
        "id": "HgSk08bnZwfY"
      }
    },
    {
      "cell_type": "code",
      "execution_count": null,
      "metadata": {
        "colab": {
          "base_uri": "https://localhost:8080/"
        },
        "id": "cFdsPD35kLjJ",
        "outputId": "446f0621-373a-4de0-f965-c1041432b390"
      },
      "outputs": [
        {
          "output_type": "stream",
          "name": "stdout",
          "text": [
            "[[141  20]\n",
            " [ 99  73]]\n",
            "Accuracy = 0.6426426426426426\n",
            "Precision = 0.7849462365591398\n",
            "Recall = 0.42441860465116277\n",
            "F1 score = 0.5509433962264151\n"
          ]
        }
      ],
      "source": [
        "#NB\n",
        "text_clf_NB_new =  MultinomialNB()\n",
        "text_clf_NB_new.fit(new_train,y_train)\n",
        "predictions = text_clf_NB_new.predict(new_test)\n",
        "print(metrics.confusion_matrix(y_test, predictions))\n",
        "# Print the overall accuracy\n",
        "print(\"Accuracy = \"+str(metrics.accuracy_score(y_test, predictions)))\n",
        "print(\"Precision = \"+str(metrics.precision_score(y_test, predictions)))\n",
        "print(\"Recall = \"+str(metrics.recall_score(y_test, predictions)))\n",
        "# f1 score\n",
        "print(\"F1 score = \"+ str(f1_score(y_test, predictions)))"
      ]
    },
    {
      "cell_type": "markdown",
      "source": [
        "Create Maximum Entrophy model. Train it on meta data and test the score."
      ],
      "metadata": {
        "id": "NW3PRCJ5ZyJ9"
      }
    },
    {
      "cell_type": "code",
      "execution_count": null,
      "metadata": {
        "colab": {
          "base_uri": "https://localhost:8080/"
        },
        "id": "NSXxEXOmEDH0",
        "outputId": "38f241fa-ee9d-4e5e-d746-732ded18d5d4"
      },
      "outputs": [
        {
          "output_type": "stream",
          "name": "stdout",
          "text": [
            "[[118  43]\n",
            " [ 61 111]]\n",
            "Accuracy = 0.6876876876876877\n",
            "Precision = 0.7207792207792207\n",
            "Recall = 0.6453488372093024\n",
            "F1 score = 0.6809815950920245\n"
          ]
        }
      ],
      "source": [
        "#Maximum Entrophy\n",
        "text_clf_LR_new =  LogisticRegression()\n",
        "text_clf_LR_new.fit(new_train,y_train)\n",
        "predictions = text_clf_LR_new.predict(new_test)\n",
        "print(metrics.confusion_matrix(y_test, predictions))\n",
        "# Print the overall accuracy\n",
        "print(\"Accuracy = \"+str(metrics.accuracy_score(y_test, predictions)))\n",
        "print(\"Precision = \"+str(metrics.precision_score(y_test, predictions)))\n",
        "print(\"Recall = \"+str(metrics.recall_score(y_test, predictions)))\n",
        "# f1 score\n",
        "print(\"F1 score = \"+ str(f1_score(y_test, predictions)))"
      ]
    }
  ],
  "metadata": {
    "colab": {
      "provenance": []
    },
    "kernelspec": {
      "display_name": "Python 3",
      "name": "python3"
    },
    "language_info": {
      "name": "python"
    }
  },
  "nbformat": 4,
  "nbformat_minor": 0
}
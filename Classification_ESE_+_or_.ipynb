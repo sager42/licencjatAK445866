{
  "nbformat": 4,
  "nbformat_minor": 0,
  "metadata": {
    "colab": {
      "provenance": []
    },
    "kernelspec": {
      "display_name": "Python 3",
      "name": "python3"
    },
    "language_info": {
      "name": "python"
    }
  },
  "cells": [
    {
      "cell_type": "markdown",
      "metadata": {
        "id": "_cCuu8gWuQCn"
      },
      "source": [
        "Download spacy library and polish language model"
      ]
    },
    {
      "cell_type": "code",
      "metadata": {
        "colab": {
          "base_uri": "https://localhost:8080/"
        },
        "id": "9zVJcaC2uHRO",
        "outputId": "810ab0f9-8f78-4ab7-df17-6b93866a9731"
      },
      "source": [
        "!pip install --upgrade spacy\n",
        "!python -m spacy download pl_core_news_sm"
      ],
      "execution_count": null,
      "outputs": [
        {
          "output_type": "stream",
          "name": "stdout",
          "text": [
            "Looking in indexes: https://pypi.org/simple, https://us-python.pkg.dev/colab-wheels/public/simple/\n",
            "Requirement already satisfied: spacy in /usr/local/lib/python3.7/dist-packages (3.4.1)\n",
            "Requirement already satisfied: pathy>=0.3.5 in /usr/local/lib/python3.7/dist-packages (from spacy) (0.6.2)\n",
            "Requirement already satisfied: srsly<3.0.0,>=2.4.3 in /usr/local/lib/python3.7/dist-packages (from spacy) (2.4.4)\n",
            "Requirement already satisfied: murmurhash<1.1.0,>=0.28.0 in /usr/local/lib/python3.7/dist-packages (from spacy) (1.0.8)\n",
            "Requirement already satisfied: langcodes<4.0.0,>=3.2.0 in /usr/local/lib/python3.7/dist-packages (from spacy) (3.3.0)\n",
            "Requirement already satisfied: spacy-legacy<3.1.0,>=3.0.9 in /usr/local/lib/python3.7/dist-packages (from spacy) (3.0.10)\n",
            "Requirement already satisfied: catalogue<2.1.0,>=2.0.6 in /usr/local/lib/python3.7/dist-packages (from spacy) (2.0.8)\n",
            "Requirement already satisfied: jinja2 in /usr/local/lib/python3.7/dist-packages (from spacy) (2.11.3)\n",
            "Requirement already satisfied: requests<3.0.0,>=2.13.0 in /usr/local/lib/python3.7/dist-packages (from spacy) (2.23.0)\n",
            "Requirement already satisfied: preshed<3.1.0,>=3.0.2 in /usr/local/lib/python3.7/dist-packages (from spacy) (3.0.7)\n",
            "Requirement already satisfied: wasabi<1.1.0,>=0.9.1 in /usr/local/lib/python3.7/dist-packages (from spacy) (0.10.1)\n",
            "Requirement already satisfied: packaging>=20.0 in /usr/local/lib/python3.7/dist-packages (from spacy) (21.3)\n",
            "Requirement already satisfied: typing-extensions<4.2.0,>=3.7.4 in /usr/local/lib/python3.7/dist-packages (from spacy) (4.1.1)\n",
            "Requirement already satisfied: typer<0.5.0,>=0.3.0 in /usr/local/lib/python3.7/dist-packages (from spacy) (0.4.2)\n",
            "Requirement already satisfied: tqdm<5.0.0,>=4.38.0 in /usr/local/lib/python3.7/dist-packages (from spacy) (4.64.1)\n",
            "Requirement already satisfied: pydantic!=1.8,!=1.8.1,<1.10.0,>=1.7.4 in /usr/local/lib/python3.7/dist-packages (from spacy) (1.9.2)\n",
            "Requirement already satisfied: spacy-loggers<2.0.0,>=1.0.0 in /usr/local/lib/python3.7/dist-packages (from spacy) (1.0.3)\n",
            "Requirement already satisfied: numpy>=1.15.0 in /usr/local/lib/python3.7/dist-packages (from spacy) (1.21.6)\n",
            "Requirement already satisfied: setuptools in /usr/local/lib/python3.7/dist-packages (from spacy) (57.4.0)\n",
            "Requirement already satisfied: thinc<8.2.0,>=8.1.0 in /usr/local/lib/python3.7/dist-packages (from spacy) (8.1.0)\n",
            "Requirement already satisfied: cymem<2.1.0,>=2.0.2 in /usr/local/lib/python3.7/dist-packages (from spacy) (2.0.6)\n",
            "Requirement already satisfied: zipp>=0.5 in /usr/local/lib/python3.7/dist-packages (from catalogue<2.1.0,>=2.0.6->spacy) (3.8.1)\n",
            "Requirement already satisfied: pyparsing!=3.0.5,>=2.0.2 in /usr/local/lib/python3.7/dist-packages (from packaging>=20.0->spacy) (3.0.9)\n",
            "Requirement already satisfied: smart-open<6.0.0,>=5.2.1 in /usr/local/lib/python3.7/dist-packages (from pathy>=0.3.5->spacy) (5.2.1)\n",
            "Requirement already satisfied: chardet<4,>=3.0.2 in /usr/local/lib/python3.7/dist-packages (from requests<3.0.0,>=2.13.0->spacy) (3.0.4)\n",
            "Requirement already satisfied: urllib3!=1.25.0,!=1.25.1,<1.26,>=1.21.1 in /usr/local/lib/python3.7/dist-packages (from requests<3.0.0,>=2.13.0->spacy) (1.24.3)\n",
            "Requirement already satisfied: idna<3,>=2.5 in /usr/local/lib/python3.7/dist-packages (from requests<3.0.0,>=2.13.0->spacy) (2.10)\n",
            "Requirement already satisfied: certifi>=2017.4.17 in /usr/local/lib/python3.7/dist-packages (from requests<3.0.0,>=2.13.0->spacy) (2022.6.15)\n",
            "Requirement already satisfied: blis<0.8.0,>=0.7.8 in /usr/local/lib/python3.7/dist-packages (from thinc<8.2.0,>=8.1.0->spacy) (0.7.8)\n",
            "Requirement already satisfied: click<9.0.0,>=7.1.1 in /usr/local/lib/python3.7/dist-packages (from typer<0.5.0,>=0.3.0->spacy) (7.1.2)\n",
            "Requirement already satisfied: MarkupSafe>=0.23 in /usr/local/lib/python3.7/dist-packages (from jinja2->spacy) (2.0.1)\n",
            "2022-09-15 14:24:06.853542: E tensorflow/stream_executor/cuda/cuda_driver.cc:271] failed call to cuInit: CUDA_ERROR_NO_DEVICE: no CUDA-capable device is detected\n",
            "Looking in indexes: https://pypi.org/simple, https://us-python.pkg.dev/colab-wheels/public/simple/\n",
            "Collecting pl-core-news-sm==3.4.0\n",
            "  Downloading https://github.com/explosion/spacy-models/releases/download/pl_core_news_sm-3.4.0/pl_core_news_sm-3.4.0-py3-none-any.whl (20.1 MB)\n",
            "\u001b[K     |████████████████████████████████| 20.1 MB 1.3 MB/s \n",
            "\u001b[?25hRequirement already satisfied: spacy<3.5.0,>=3.4.0 in /usr/local/lib/python3.7/dist-packages (from pl-core-news-sm==3.4.0) (3.4.1)\n",
            "Requirement already satisfied: thinc<8.2.0,>=8.1.0 in /usr/local/lib/python3.7/dist-packages (from spacy<3.5.0,>=3.4.0->pl-core-news-sm==3.4.0) (8.1.0)\n",
            "Requirement already satisfied: langcodes<4.0.0,>=3.2.0 in /usr/local/lib/python3.7/dist-packages (from spacy<3.5.0,>=3.4.0->pl-core-news-sm==3.4.0) (3.3.0)\n",
            "Requirement already satisfied: wasabi<1.1.0,>=0.9.1 in /usr/local/lib/python3.7/dist-packages (from spacy<3.5.0,>=3.4.0->pl-core-news-sm==3.4.0) (0.10.1)\n",
            "Requirement already satisfied: pydantic!=1.8,!=1.8.1,<1.10.0,>=1.7.4 in /usr/local/lib/python3.7/dist-packages (from spacy<3.5.0,>=3.4.0->pl-core-news-sm==3.4.0) (1.9.2)\n",
            "Requirement already satisfied: spacy-legacy<3.1.0,>=3.0.9 in /usr/local/lib/python3.7/dist-packages (from spacy<3.5.0,>=3.4.0->pl-core-news-sm==3.4.0) (3.0.10)\n",
            "Requirement already satisfied: numpy>=1.15.0 in /usr/local/lib/python3.7/dist-packages (from spacy<3.5.0,>=3.4.0->pl-core-news-sm==3.4.0) (1.21.6)\n",
            "Requirement already satisfied: cymem<2.1.0,>=2.0.2 in /usr/local/lib/python3.7/dist-packages (from spacy<3.5.0,>=3.4.0->pl-core-news-sm==3.4.0) (2.0.6)\n",
            "Requirement already satisfied: srsly<3.0.0,>=2.4.3 in /usr/local/lib/python3.7/dist-packages (from spacy<3.5.0,>=3.4.0->pl-core-news-sm==3.4.0) (2.4.4)\n",
            "Requirement already satisfied: typer<0.5.0,>=0.3.0 in /usr/local/lib/python3.7/dist-packages (from spacy<3.5.0,>=3.4.0->pl-core-news-sm==3.4.0) (0.4.2)\n",
            "Requirement already satisfied: packaging>=20.0 in /usr/local/lib/python3.7/dist-packages (from spacy<3.5.0,>=3.4.0->pl-core-news-sm==3.4.0) (21.3)\n",
            "Requirement already satisfied: requests<3.0.0,>=2.13.0 in /usr/local/lib/python3.7/dist-packages (from spacy<3.5.0,>=3.4.0->pl-core-news-sm==3.4.0) (2.23.0)\n",
            "Requirement already satisfied: typing-extensions<4.2.0,>=3.7.4 in /usr/local/lib/python3.7/dist-packages (from spacy<3.5.0,>=3.4.0->pl-core-news-sm==3.4.0) (4.1.1)\n",
            "Requirement already satisfied: setuptools in /usr/local/lib/python3.7/dist-packages (from spacy<3.5.0,>=3.4.0->pl-core-news-sm==3.4.0) (57.4.0)\n",
            "Requirement already satisfied: preshed<3.1.0,>=3.0.2 in /usr/local/lib/python3.7/dist-packages (from spacy<3.5.0,>=3.4.0->pl-core-news-sm==3.4.0) (3.0.7)\n",
            "Requirement already satisfied: tqdm<5.0.0,>=4.38.0 in /usr/local/lib/python3.7/dist-packages (from spacy<3.5.0,>=3.4.0->pl-core-news-sm==3.4.0) (4.64.1)\n",
            "Requirement already satisfied: pathy>=0.3.5 in /usr/local/lib/python3.7/dist-packages (from spacy<3.5.0,>=3.4.0->pl-core-news-sm==3.4.0) (0.6.2)\n",
            "Requirement already satisfied: catalogue<2.1.0,>=2.0.6 in /usr/local/lib/python3.7/dist-packages (from spacy<3.5.0,>=3.4.0->pl-core-news-sm==3.4.0) (2.0.8)\n",
            "Requirement already satisfied: jinja2 in /usr/local/lib/python3.7/dist-packages (from spacy<3.5.0,>=3.4.0->pl-core-news-sm==3.4.0) (2.11.3)\n",
            "Requirement already satisfied: murmurhash<1.1.0,>=0.28.0 in /usr/local/lib/python3.7/dist-packages (from spacy<3.5.0,>=3.4.0->pl-core-news-sm==3.4.0) (1.0.8)\n",
            "Requirement already satisfied: spacy-loggers<2.0.0,>=1.0.0 in /usr/local/lib/python3.7/dist-packages (from spacy<3.5.0,>=3.4.0->pl-core-news-sm==3.4.0) (1.0.3)\n",
            "Requirement already satisfied: zipp>=0.5 in /usr/local/lib/python3.7/dist-packages (from catalogue<2.1.0,>=2.0.6->spacy<3.5.0,>=3.4.0->pl-core-news-sm==3.4.0) (3.8.1)\n",
            "Requirement already satisfied: pyparsing!=3.0.5,>=2.0.2 in /usr/local/lib/python3.7/dist-packages (from packaging>=20.0->spacy<3.5.0,>=3.4.0->pl-core-news-sm==3.4.0) (3.0.9)\n",
            "Requirement already satisfied: smart-open<6.0.0,>=5.2.1 in /usr/local/lib/python3.7/dist-packages (from pathy>=0.3.5->spacy<3.5.0,>=3.4.0->pl-core-news-sm==3.4.0) (5.2.1)\n",
            "Requirement already satisfied: certifi>=2017.4.17 in /usr/local/lib/python3.7/dist-packages (from requests<3.0.0,>=2.13.0->spacy<3.5.0,>=3.4.0->pl-core-news-sm==3.4.0) (2022.6.15)\n",
            "Requirement already satisfied: urllib3!=1.25.0,!=1.25.1,<1.26,>=1.21.1 in /usr/local/lib/python3.7/dist-packages (from requests<3.0.0,>=2.13.0->spacy<3.5.0,>=3.4.0->pl-core-news-sm==3.4.0) (1.24.3)\n",
            "Requirement already satisfied: chardet<4,>=3.0.2 in /usr/local/lib/python3.7/dist-packages (from requests<3.0.0,>=2.13.0->spacy<3.5.0,>=3.4.0->pl-core-news-sm==3.4.0) (3.0.4)\n",
            "Requirement already satisfied: idna<3,>=2.5 in /usr/local/lib/python3.7/dist-packages (from requests<3.0.0,>=2.13.0->spacy<3.5.0,>=3.4.0->pl-core-news-sm==3.4.0) (2.10)\n",
            "Requirement already satisfied: blis<0.8.0,>=0.7.8 in /usr/local/lib/python3.7/dist-packages (from thinc<8.2.0,>=8.1.0->spacy<3.5.0,>=3.4.0->pl-core-news-sm==3.4.0) (0.7.8)\n",
            "Requirement already satisfied: click<9.0.0,>=7.1.1 in /usr/local/lib/python3.7/dist-packages (from typer<0.5.0,>=0.3.0->spacy<3.5.0,>=3.4.0->pl-core-news-sm==3.4.0) (7.1.2)\n",
            "Requirement already satisfied: MarkupSafe>=0.23 in /usr/local/lib/python3.7/dist-packages (from jinja2->spacy<3.5.0,>=3.4.0->pl-core-news-sm==3.4.0) (2.0.1)\n",
            "\u001b[38;5;2m✔ Download and installation successful\u001b[0m\n",
            "You can now load the package via spacy.load('pl_core_news_sm')\n"
          ]
        }
      ]
    },
    {
      "cell_type": "markdown",
      "metadata": {
        "id": "BIczcX-Suel2"
      },
      "source": [
        "Import necessary libraries"
      ]
    },
    {
      "cell_type": "code",
      "metadata": {
        "id": "0832hhSVM0jJ"
      },
      "source": [
        "import pandas as pd\n",
        "import numpy as np\n",
        "import spacy\n",
        "from sklearn.model_selection import train_test_split\n",
        "from sklearn.pipeline import Pipeline\n",
        "from sklearn.feature_extraction.text import TfidfVectorizer\n",
        "from sklearn.naive_bayes import MultinomialNB\n",
        "from sklearn import model_selection, naive_bayes, svm\n",
        "from sklearn.compose import ColumnTransformer\n",
        "from sklearn import metrics\n",
        "from sklearn.preprocessing import FunctionTransformer\n",
        "from sklearn.decomposition import TruncatedSVD, PCA\n",
        "from sklearn.decomposition import NMF\n",
        "from sklearn.ensemble import RandomForestClassifier\n",
        "from sklearn.metrics import f1_score, precision_score, recall_score\n",
        "from sklearn.linear_model import LogisticRegression\n",
        "from sklearn.dummy import DummyClassifier"
      ],
      "execution_count": null,
      "outputs": []
    },
    {
      "cell_type": "markdown",
      "source": [
        "Load polish language model"
      ],
      "metadata": {
        "id": "Qvs_na7KVytG"
      }
    },
    {
      "cell_type": "code",
      "metadata": {
        "id": "gjXAg_iGuY6x"
      },
      "source": [
        "\n",
        "nlp = spacy.load(\"pl_core_news_sm\")\n",
        "STOP_WORDS = spacy.lang.pl.STOP_WORDS"
      ],
      "execution_count": null,
      "outputs": []
    },
    {
      "cell_type": "markdown",
      "source": [
        "Load dataset and make basic checks on counts"
      ],
      "metadata": {
        "id": "RAS83kTbV0zr"
      }
    },
    {
      "cell_type": "code",
      "metadata": {
        "id": "Ozeh66xS5xL7"
      },
      "source": [
        "df = pd.read_excel(\"/content/drive/MyDrive/Licencjat/DF_rich.xlsx\")"
      ],
      "execution_count": null,
      "outputs": []
    },
    {
      "cell_type": "code",
      "metadata": {
        "id": "-CvSw1Pb8P9u"
      },
      "source": [
        "df = df.sort_values(\"type\", ascending= True)"
      ],
      "execution_count": null,
      "outputs": []
    },
    {
      "cell_type": "code",
      "source": [
        "df"
      ],
      "metadata": {
        "colab": {
          "base_uri": "https://localhost:8080/",
          "height": 711
        },
        "id": "qKaTsmwYToxQ",
        "outputId": "a6ea108b-027d-41d9-f50d-555acece9ccc"
      },
      "execution_count": null,
      "outputs": [
        {
          "output_type": "execute_result",
          "data": {
            "text/plain": [
              "                         author  \\\n",
              "0                Robert Biedroń   \n",
              "236   Władysław Kosiniak-Kamysz   \n",
              "237   Władysław Kosiniak-Kamysz   \n",
              "239               Paweł Tanajno   \n",
              "241               Paweł Tanajno   \n",
              "...                         ...   \n",
              "1613             Marek Jakubiak   \n",
              "1614        Mirosław Piotrowski   \n",
              "1615        Mirosław Piotrowski   \n",
              "1616        Mirosław Piotrowski   \n",
              "1617             Marek Jakubiak   \n",
              "\n",
              "                                                    raw  \\\n",
              "0       nie zajmują się zdobywaniem funduszy dla Polski   \n",
              "236   podczas pana kadencji wiek emerytalny rolników...   \n",
              "237                        Byłby pan niezłym archiwistą   \n",
              "239   Śmieszy mnie wypowiedź Pana Andrzeja, który mó...   \n",
              "241   przez ostatnie miesiące, razem z Mateuszem Mor...   \n",
              "...                                                 ...   \n",
              "1613  tak, proszę państwa, wszyscy wiemy, że nie ma ...   \n",
              "1614  podnosił on sprawę szczepień i pytał: „A na kt...   \n",
              "1615  wprowadzić w ogóle szczepionkę, to potrzebne s...   \n",
              "1616     są tu też wśród nas lekarze i chyba potwierdzą   \n",
              "1617  Przed nami kryzys, który jeszcze się nie rozwinął   \n",
              "\n",
              "                                                    ADU    type  \\\n",
              "0      PiS i PO nie zajmują się zdobywaniem funduszy...  attack   \n",
              "236   podczas kadencji Andrzeja Dudy wiek emerytalny...  attack   \n",
              "237               Andrzej Duda byłby niezłym archiwistą  attack   \n",
              "239   Paweł Tanajno śmieszy wypowiedź Pana Andrzeja,...  attack   \n",
              "241   przez ostatnie miesiące, razem z Mateuszem Mor...  attack   \n",
              "...                                                 ...     ...   \n",
              "1613  wszyscy wiemy, że nie ma nic ważniejszego dla ...     NaN   \n",
              "1614  profesor, lekarz odpowiedzialn za koronawirusa...     NaN   \n",
              "1615  wprowadzić w ogóle szczepionkę, to potrzebne s...     NaN   \n",
              "1616     są tu też wśród nas lekarze i chyba potwierdzą     NaN   \n",
              "1617  przed społeczeństwem kryzys, który jeszcze się...     NaN   \n",
              "\n",
              "                         target  ESE  Polarity  \\\n",
              "0     Małgorzata Kidawa-Błońska  1.0       0.0   \n",
              "236                Andrzej Duda  1.0       1.0   \n",
              "237                Andrzej Duda  1.0       0.0   \n",
              "239                Andrzej Duda  1.0       1.0   \n",
              "241          Mateusz Morawiecki  1.0      -1.0   \n",
              "...                         ...  ...       ...   \n",
              "1613                        NaN  0.0       2.0   \n",
              "1614                        NaN  0.0       0.0   \n",
              "1615                        NaN  0.0       0.0   \n",
              "1616                        NaN  0.0       0.0   \n",
              "1617                        NaN  0.0      -1.0   \n",
              "\n",
              "                                             ASD-person  \\\n",
              "0      PiS i PO nie zajmują się zdobywaniem funduszy...   \n",
              "236   podczas kadencji Andrzeja Dudy wiek emerytalny...   \n",
              "237                        ASD byłby niezłym archiwistą   \n",
              "239   ASD śmieszy wypowiedź Pana Andrzeja, który mów...   \n",
              "241   przez ostatnie miesiące, razem z Mateuszem Mor...   \n",
              "...                                                 ...   \n",
              "1613  wszyscy wiemy, że nie ma nic ważniejszego dla ...   \n",
              "1614  profesor, lekarz odpowiedzialn za koronawirusa...   \n",
              "1615  wprowadzić w ogóle szczepionkę, to potrzebne s...   \n",
              "1616     są tu też wśród nas lekarze i chyba potwierdzą   \n",
              "1617  przed społeczeństwem kryzys, który jeszcze się...   \n",
              "\n",
              "                                              NO-person  \n",
              "0      PiS i PO nie zajmują się zdobywaniem funduszy...  \n",
              "236   podczas kadencji Andrzeja Dudy wiek emerytalny...  \n",
              "237                            byłby niezłym archiwistą  \n",
              "239    śmieszy wypowiedź Pana Andrzeja, który mówi, ...  \n",
              "241   przez ostatnie miesiące, razem z Mateuszem Mor...  \n",
              "...                                                 ...  \n",
              "1613  wszyscy wiemy, że nie ma nic ważniejszego dla ...  \n",
              "1614  profesor, lekarz odpowiedzialn za koronawirusa...  \n",
              "1615  wprowadzić w ogóle szczepionkę, to potrzebne s...  \n",
              "1616     są tu też wśród nas lekarze i chyba potwierdzą  \n",
              "1617  przed społeczeństwem kryzys, który jeszcze się...  \n",
              "\n",
              "[1618 rows x 9 columns]"
            ],
            "text/html": [
              "\n",
              "  <div id=\"df-cb28b123-1aed-4c57-81bf-76c93637fa4a\">\n",
              "    <div class=\"colab-df-container\">\n",
              "      <div>\n",
              "<style scoped>\n",
              "    .dataframe tbody tr th:only-of-type {\n",
              "        vertical-align: middle;\n",
              "    }\n",
              "\n",
              "    .dataframe tbody tr th {\n",
              "        vertical-align: top;\n",
              "    }\n",
              "\n",
              "    .dataframe thead th {\n",
              "        text-align: right;\n",
              "    }\n",
              "</style>\n",
              "<table border=\"1\" class=\"dataframe\">\n",
              "  <thead>\n",
              "    <tr style=\"text-align: right;\">\n",
              "      <th></th>\n",
              "      <th>author</th>\n",
              "      <th>raw</th>\n",
              "      <th>ADU</th>\n",
              "      <th>type</th>\n",
              "      <th>target</th>\n",
              "      <th>ESE</th>\n",
              "      <th>Polarity</th>\n",
              "      <th>ASD-person</th>\n",
              "      <th>NO-person</th>\n",
              "    </tr>\n",
              "  </thead>\n",
              "  <tbody>\n",
              "    <tr>\n",
              "      <th>0</th>\n",
              "      <td>Robert Biedroń</td>\n",
              "      <td>nie zajmują się zdobywaniem funduszy dla Polski</td>\n",
              "      <td>PiS i PO nie zajmują się zdobywaniem funduszy...</td>\n",
              "      <td>attack</td>\n",
              "      <td>Małgorzata Kidawa-Błońska</td>\n",
              "      <td>1.0</td>\n",
              "      <td>0.0</td>\n",
              "      <td>PiS i PO nie zajmują się zdobywaniem funduszy...</td>\n",
              "      <td>PiS i PO nie zajmują się zdobywaniem funduszy...</td>\n",
              "    </tr>\n",
              "    <tr>\n",
              "      <th>236</th>\n",
              "      <td>Władysław Kosiniak-Kamysz</td>\n",
              "      <td>podczas pana kadencji wiek emerytalny rolników...</td>\n",
              "      <td>podczas kadencji Andrzeja Dudy wiek emerytalny...</td>\n",
              "      <td>attack</td>\n",
              "      <td>Andrzej Duda</td>\n",
              "      <td>1.0</td>\n",
              "      <td>1.0</td>\n",
              "      <td>podczas kadencji Andrzeja Dudy wiek emerytalny...</td>\n",
              "      <td>podczas kadencji Andrzeja Dudy wiek emerytalny...</td>\n",
              "    </tr>\n",
              "    <tr>\n",
              "      <th>237</th>\n",
              "      <td>Władysław Kosiniak-Kamysz</td>\n",
              "      <td>Byłby pan niezłym archiwistą</td>\n",
              "      <td>Andrzej Duda byłby niezłym archiwistą</td>\n",
              "      <td>attack</td>\n",
              "      <td>Andrzej Duda</td>\n",
              "      <td>1.0</td>\n",
              "      <td>0.0</td>\n",
              "      <td>ASD byłby niezłym archiwistą</td>\n",
              "      <td>byłby niezłym archiwistą</td>\n",
              "    </tr>\n",
              "    <tr>\n",
              "      <th>239</th>\n",
              "      <td>Paweł Tanajno</td>\n",
              "      <td>Śmieszy mnie wypowiedź Pana Andrzeja, który mó...</td>\n",
              "      <td>Paweł Tanajno śmieszy wypowiedź Pana Andrzeja,...</td>\n",
              "      <td>attack</td>\n",
              "      <td>Andrzej Duda</td>\n",
              "      <td>1.0</td>\n",
              "      <td>1.0</td>\n",
              "      <td>ASD śmieszy wypowiedź Pana Andrzeja, który mów...</td>\n",
              "      <td>śmieszy wypowiedź Pana Andrzeja, który mówi, ...</td>\n",
              "    </tr>\n",
              "    <tr>\n",
              "      <th>241</th>\n",
              "      <td>Paweł Tanajno</td>\n",
              "      <td>przez ostatnie miesiące, razem z Mateuszem Mor...</td>\n",
              "      <td>przez ostatnie miesiące, razem z Mateuszem Mor...</td>\n",
              "      <td>attack</td>\n",
              "      <td>Mateusz Morawiecki</td>\n",
              "      <td>1.0</td>\n",
              "      <td>-1.0</td>\n",
              "      <td>przez ostatnie miesiące, razem z Mateuszem Mor...</td>\n",
              "      <td>przez ostatnie miesiące, razem z Mateuszem Mor...</td>\n",
              "    </tr>\n",
              "    <tr>\n",
              "      <th>...</th>\n",
              "      <td>...</td>\n",
              "      <td>...</td>\n",
              "      <td>...</td>\n",
              "      <td>...</td>\n",
              "      <td>...</td>\n",
              "      <td>...</td>\n",
              "      <td>...</td>\n",
              "      <td>...</td>\n",
              "      <td>...</td>\n",
              "    </tr>\n",
              "    <tr>\n",
              "      <th>1613</th>\n",
              "      <td>Marek Jakubiak</td>\n",
              "      <td>tak, proszę państwa, wszyscy wiemy, że nie ma ...</td>\n",
              "      <td>wszyscy wiemy, że nie ma nic ważniejszego dla ...</td>\n",
              "      <td>NaN</td>\n",
              "      <td>NaN</td>\n",
              "      <td>0.0</td>\n",
              "      <td>2.0</td>\n",
              "      <td>wszyscy wiemy, że nie ma nic ważniejszego dla ...</td>\n",
              "      <td>wszyscy wiemy, że nie ma nic ważniejszego dla ...</td>\n",
              "    </tr>\n",
              "    <tr>\n",
              "      <th>1614</th>\n",
              "      <td>Mirosław Piotrowski</td>\n",
              "      <td>podnosił on sprawę szczepień i pytał: „A na kt...</td>\n",
              "      <td>profesor, lekarz odpowiedzialn za koronawirusa...</td>\n",
              "      <td>NaN</td>\n",
              "      <td>NaN</td>\n",
              "      <td>0.0</td>\n",
              "      <td>0.0</td>\n",
              "      <td>profesor, lekarz odpowiedzialn za koronawirusa...</td>\n",
              "      <td>profesor, lekarz odpowiedzialn za koronawirusa...</td>\n",
              "    </tr>\n",
              "    <tr>\n",
              "      <th>1615</th>\n",
              "      <td>Mirosław Piotrowski</td>\n",
              "      <td>wprowadzić w ogóle szczepionkę, to potrzebne s...</td>\n",
              "      <td>wprowadzić w ogóle szczepionkę, to potrzebne s...</td>\n",
              "      <td>NaN</td>\n",
              "      <td>NaN</td>\n",
              "      <td>0.0</td>\n",
              "      <td>0.0</td>\n",
              "      <td>wprowadzić w ogóle szczepionkę, to potrzebne s...</td>\n",
              "      <td>wprowadzić w ogóle szczepionkę, to potrzebne s...</td>\n",
              "    </tr>\n",
              "    <tr>\n",
              "      <th>1616</th>\n",
              "      <td>Mirosław Piotrowski</td>\n",
              "      <td>są tu też wśród nas lekarze i chyba potwierdzą</td>\n",
              "      <td>są tu też wśród nas lekarze i chyba potwierdzą</td>\n",
              "      <td>NaN</td>\n",
              "      <td>NaN</td>\n",
              "      <td>0.0</td>\n",
              "      <td>0.0</td>\n",
              "      <td>są tu też wśród nas lekarze i chyba potwierdzą</td>\n",
              "      <td>są tu też wśród nas lekarze i chyba potwierdzą</td>\n",
              "    </tr>\n",
              "    <tr>\n",
              "      <th>1617</th>\n",
              "      <td>Marek Jakubiak</td>\n",
              "      <td>Przed nami kryzys, który jeszcze się nie rozwinął</td>\n",
              "      <td>przed społeczeństwem kryzys, który jeszcze się...</td>\n",
              "      <td>NaN</td>\n",
              "      <td>NaN</td>\n",
              "      <td>0.0</td>\n",
              "      <td>-1.0</td>\n",
              "      <td>przed społeczeństwem kryzys, który jeszcze się...</td>\n",
              "      <td>przed społeczeństwem kryzys, który jeszcze się...</td>\n",
              "    </tr>\n",
              "  </tbody>\n",
              "</table>\n",
              "<p>1618 rows × 9 columns</p>\n",
              "</div>\n",
              "      <button class=\"colab-df-convert\" onclick=\"convertToInteractive('df-cb28b123-1aed-4c57-81bf-76c93637fa4a')\"\n",
              "              title=\"Convert this dataframe to an interactive table.\"\n",
              "              style=\"display:none;\">\n",
              "        \n",
              "  <svg xmlns=\"http://www.w3.org/2000/svg\" height=\"24px\"viewBox=\"0 0 24 24\"\n",
              "       width=\"24px\">\n",
              "    <path d=\"M0 0h24v24H0V0z\" fill=\"none\"/>\n",
              "    <path d=\"M18.56 5.44l.94 2.06.94-2.06 2.06-.94-2.06-.94-.94-2.06-.94 2.06-2.06.94zm-11 1L8.5 8.5l.94-2.06 2.06-.94-2.06-.94L8.5 2.5l-.94 2.06-2.06.94zm10 10l.94 2.06.94-2.06 2.06-.94-2.06-.94-.94-2.06-.94 2.06-2.06.94z\"/><path d=\"M17.41 7.96l-1.37-1.37c-.4-.4-.92-.59-1.43-.59-.52 0-1.04.2-1.43.59L10.3 9.45l-7.72 7.72c-.78.78-.78 2.05 0 2.83L4 21.41c.39.39.9.59 1.41.59.51 0 1.02-.2 1.41-.59l7.78-7.78 2.81-2.81c.8-.78.8-2.07 0-2.86zM5.41 20L4 18.59l7.72-7.72 1.47 1.35L5.41 20z\"/>\n",
              "  </svg>\n",
              "      </button>\n",
              "      \n",
              "  <style>\n",
              "    .colab-df-container {\n",
              "      display:flex;\n",
              "      flex-wrap:wrap;\n",
              "      gap: 12px;\n",
              "    }\n",
              "\n",
              "    .colab-df-convert {\n",
              "      background-color: #E8F0FE;\n",
              "      border: none;\n",
              "      border-radius: 50%;\n",
              "      cursor: pointer;\n",
              "      display: none;\n",
              "      fill: #1967D2;\n",
              "      height: 32px;\n",
              "      padding: 0 0 0 0;\n",
              "      width: 32px;\n",
              "    }\n",
              "\n",
              "    .colab-df-convert:hover {\n",
              "      background-color: #E2EBFA;\n",
              "      box-shadow: 0px 1px 2px rgba(60, 64, 67, 0.3), 0px 1px 3px 1px rgba(60, 64, 67, 0.15);\n",
              "      fill: #174EA6;\n",
              "    }\n",
              "\n",
              "    [theme=dark] .colab-df-convert {\n",
              "      background-color: #3B4455;\n",
              "      fill: #D2E3FC;\n",
              "    }\n",
              "\n",
              "    [theme=dark] .colab-df-convert:hover {\n",
              "      background-color: #434B5C;\n",
              "      box-shadow: 0px 1px 3px 1px rgba(0, 0, 0, 0.15);\n",
              "      filter: drop-shadow(0px 1px 2px rgba(0, 0, 0, 0.3));\n",
              "      fill: #FFFFFF;\n",
              "    }\n",
              "  </style>\n",
              "\n",
              "      <script>\n",
              "        const buttonEl =\n",
              "          document.querySelector('#df-cb28b123-1aed-4c57-81bf-76c93637fa4a button.colab-df-convert');\n",
              "        buttonEl.style.display =\n",
              "          google.colab.kernel.accessAllowed ? 'block' : 'none';\n",
              "\n",
              "        async function convertToInteractive(key) {\n",
              "          const element = document.querySelector('#df-cb28b123-1aed-4c57-81bf-76c93637fa4a');\n",
              "          const dataTable =\n",
              "            await google.colab.kernel.invokeFunction('convertToInteractive',\n",
              "                                                     [key], {});\n",
              "          if (!dataTable) return;\n",
              "\n",
              "          const docLinkHtml = 'Like what you see? Visit the ' +\n",
              "            '<a target=\"_blank\" href=https://colab.research.google.com/notebooks/data_table.ipynb>data table notebook</a>'\n",
              "            + ' to learn more about interactive tables.';\n",
              "          element.innerHTML = '';\n",
              "          dataTable['output_type'] = 'display_data';\n",
              "          await google.colab.output.renderOutput(dataTable, element);\n",
              "          const docLink = document.createElement('div');\n",
              "          docLink.innerHTML = docLinkHtml;\n",
              "          element.appendChild(docLink);\n",
              "        }\n",
              "      </script>\n",
              "    </div>\n",
              "  </div>\n",
              "  "
            ]
          },
          "metadata": {},
          "execution_count": 38
        }
      ]
    },
    {
      "cell_type": "code",
      "metadata": {
        "colab": {
          "base_uri": "https://localhost:8080/"
        },
        "id": "N36Y_1eNuivb",
        "outputId": "5e424934-ba9a-4ebb-92e9-a3f9823347d7"
      },
      "source": [
        "df[\"type\"].value_counts()"
      ],
      "execution_count": null,
      "outputs": [
        {
          "output_type": "execute_result",
          "data": {
            "text/plain": [
              "support    304\n",
              "attack     200\n",
              "Name: type, dtype: int64"
            ]
          },
          "metadata": {},
          "execution_count": 39
        }
      ]
    },
    {
      "cell_type": "code",
      "metadata": {
        "id": "hS-T4NSq5-E-"
      },
      "source": [
        "#I specifically choose data to make 50/50 ESE+/ESE- to balance the dataset\n",
        "X = df[:400]['ASD-person'].copy().reset_index(drop=True).dropna()\n",
        "Z = df[:400]['raw'].copy().reset_index(drop=True).dropna()\n",
        "y = df[:400]['type'].copy().reset_index(drop=True).dropna()\n",
        "# "
      ],
      "execution_count": null,
      "outputs": []
    },
    {
      "cell_type": "code",
      "metadata": {
        "colab": {
          "base_uri": "https://localhost:8080/"
        },
        "id": "R7PidWw57ARk",
        "outputId": "446ca40a-16df-4881-b8b0-0e7868981d5d"
      },
      "source": [
        "y.describe()"
      ],
      "execution_count": null,
      "outputs": [
        {
          "output_type": "execute_result",
          "data": {
            "text/plain": [
              "count        400\n",
              "unique         2\n",
              "top       attack\n",
              "freq         200\n",
              "Name: type, dtype: object"
            ]
          },
          "metadata": {},
          "execution_count": 42
        }
      ]
    },
    {
      "cell_type": "markdown",
      "source": [
        "Create lemmatization and part of speech functions"
      ],
      "metadata": {
        "id": "Q8a8Ge12V931"
      }
    },
    {
      "cell_type": "code",
      "metadata": {
        "id": "VmiCgIDNuwwL"
      },
      "source": [
        "def spacy_lemmatizer(X):\n",
        "  X = X.apply(lambda row: \" \".join([w.lemma_ for w in nlp(row) if not w.is_punct]))\n",
        "  return X\n",
        "\n",
        "\n",
        "def spacy_pos(X):\n",
        "  X = X.apply(lambda row: \" \".join([w.pos_ for w in nlp(row)]))\n",
        "  return X\n",
        "\n"
      ],
      "execution_count": null,
      "outputs": []
    },
    {
      "cell_type": "markdown",
      "source": [
        "Create train and test datasets"
      ],
      "metadata": {
        "id": "7FIZJ0ZhWIVx"
      }
    },
    {
      "cell_type": "code",
      "metadata": {
        "id": "XoabCdwKKr-R"
      },
      "source": [
        "X_train, X_test, y_train, y_test = train_test_split(X,y,test_size = 0.333, random_state = 42)"
      ],
      "execution_count": null,
      "outputs": []
    },
    {
      "cell_type": "code",
      "metadata": {
        "colab": {
          "base_uri": "https://localhost:8080/"
        },
        "id": "ri7l9M0_Nlqv",
        "outputId": "fc1fe9a7-1349-4a06-80a5-9b3e4a5e771f"
      },
      "source": [
        "X_train"
      ],
      "execution_count": null,
      "outputs": [
        {
          "output_type": "execute_result",
          "data": {
            "text/plain": [
              "119    w ogóle warto byłoby zakończyć współpracę z Un...\n",
              "194                może nam ASD powie, kiedy będą wybory\n",
              "229    ASD zapowiedział wczoraj, że w ramach rozdział...\n",
              "265    ASD rozmawiał ostatnio z panem Michałem z podl...\n",
              "218                     faktycznie pytanie jest o ustrój\n",
              "                             ...                        \n",
              "71     traktowani jesteśmy jak właśnie taki piesek na...\n",
              "106    polscy przedsiębiorcy teraz są poddani eksterm...\n",
              "270             potrzebne jest przede wszystkim zaufanie\n",
              "348    jako  ASD chciałby się zająć, już w pierwszym ...\n",
              "102                to nie było wynegocjonowane w dialogu\n",
              "Name: ASD-person, Length: 266, dtype: object"
            ]
          },
          "metadata": {},
          "execution_count": 46
        }
      ]
    },
    {
      "cell_type": "markdown",
      "source": [
        "\n",
        "# Lemma analysis and machine learning classification"
      ],
      "metadata": {
        "id": "2Rtzy3IQW2HL"
      }
    },
    {
      "cell_type": "markdown",
      "source": [
        "Create dummy classifier for baseline"
      ],
      "metadata": {
        "id": "5VLBfPQdWUcz"
      }
    },
    {
      "cell_type": "code",
      "source": [
        "dummy_clf = DummyClassifier(strategy=\"uniform\")"
      ],
      "metadata": {
        "id": "SLj0Q8Rtekpq"
      },
      "execution_count": null,
      "outputs": []
    },
    {
      "cell_type": "code",
      "source": [
        "dummy_clf.fit(X_train,y_train)\n",
        "pred=dummy_clf.predict(X_test)\n",
        "print(\"Accuracy = \"+str(metrics.accuracy_score(y_test, pred)))\n",
        "print(\"Precision = \"+str(metrics.precision_score(y_test, pred,pos_label=\"attack\")))\n",
        "print(\"Recall = \"+str(metrics.recall_score(y_test, pred,pos_label=\"attack\")))\n",
        "# f1 score\n",
        "print(\"F1 score = \"+ str(f1_score(y_test, pred,pos_label=\"attack\")))"
      ],
      "metadata": {
        "colab": {
          "base_uri": "https://localhost:8080/"
        },
        "id": "oW8ztHWqek02",
        "outputId": "9e9c39c0-bb66-4222-c4ba-33f2189cb692"
      },
      "execution_count": null,
      "outputs": [
        {
          "output_type": "stream",
          "name": "stdout",
          "text": [
            "Accuracy = 0.5522388059701493\n",
            "Precision = 0.5641025641025641\n",
            "Recall = 0.6285714285714286\n",
            "F1 score = 0.5945945945945945\n"
          ]
        }
      ]
    },
    {
      "cell_type": "markdown",
      "source": [
        "Create SVC model. Train it on lemmatized data and test the score."
      ],
      "metadata": {
        "id": "mqdjTcUfWYBF"
      }
    },
    {
      "cell_type": "code",
      "metadata": {
        "colab": {
          "base_uri": "https://localhost:8080/"
        },
        "id": "XFzZKrNGKnsa",
        "outputId": "db5246a0-6854-4b1c-8f8c-ad0802f73a23"
      },
      "source": [
        "#pierwszy algorytm SVC; liczba komponentów 500?\n",
        "text_clf_svc = Pipeline([(\"custom_function spacy\", FunctionTransformer(spacy_lemmatizer)), ('tfidf', TfidfVectorizer()),('PCA-TruncatedSVD', TruncatedSVD(n_components=500)), ('clf', svm.SVC(probability=True))])\n",
        "text_clf_svc.fit(X_train,y_train)\n",
        "predictions = text_clf_svc.predict(X_test)\n",
        "predictions_train_TOK_SVC = text_clf_svc.predict_proba(X_train)\n",
        "predictions_test_TOK_SVC = text_clf_svc.predict_proba(X_test)\n",
        "print(metrics.confusion_matrix(y_test, predictions))\n",
        "# Print the overall accuracy\n",
        "print(\"Accuracy = \"+str(metrics.accuracy_score(y_test, predictions)))\n",
        "print(\"Precision = \"+str(metrics.precision_score(y_test, predictions, pos_label = \"attack\")))\n",
        "print(\"Recall = \"+str(metrics.recall_score(y_test, predictions, pos_label = \"attack\")))\n",
        "# f1 score\n",
        "print(\"F1 score = \"+ str(f1_score(y_test, predictions, pos_label = \"attack\")))"
      ],
      "execution_count": null,
      "outputs": [
        {
          "output_type": "stream",
          "name": "stdout",
          "text": [
            "[[48 22]\n",
            " [22 42]]\n",
            "Accuracy = 0.6716417910447762\n",
            "Precision = 0.6857142857142857\n",
            "Recall = 0.6857142857142857\n",
            "F1 score = 0.6857142857142857\n"
          ]
        }
      ]
    },
    {
      "cell_type": "markdown",
      "source": [
        "Create Multinomial Naive Bayes model. Train it on lemmatized data and test the score."
      ],
      "metadata": {
        "id": "ghT8agYdWiaC"
      }
    },
    {
      "cell_type": "code",
      "metadata": {
        "colab": {
          "base_uri": "https://localhost:8080/"
        },
        "id": "pWDgVTobO6-q",
        "outputId": "c09bd9c0-b97e-490a-c659-7f19325b594a"
      },
      "source": [
        "#Multinomial NaiveBayes\n",
        "text_clf_nb = Pipeline([(\"custom_function spacy\", FunctionTransformer(spacy_lemmatizer)),('tfidf', TfidfVectorizer()), ('clf', MultinomialNB(alpha=0.01))])\n",
        "text_clf_nb.fit(X_train,y_train)\n",
        "predictions_train_TOK_NB = text_clf_nb.predict_proba(X_train)\n",
        "predictions_test_TOK_NB = text_clf_nb.predict_proba(X_test)\n",
        "predictions = text_clf_nb.predict(X_test)\n",
        "print(metrics.confusion_matrix(y_test, predictions))\n",
        "# Print the overall accuracy\n",
        "print(\"Accuracy = \"+str(metrics.accuracy_score(y_test, predictions)))\n",
        "print(\"Precision = \"+str(metrics.precision_score(y_test, predictions, pos_label = \"attack\")))\n",
        "print(\"Recall = \"+str(metrics.recall_score(y_test, predictions, pos_label = \"attack\")))\n",
        "# f1 score\n",
        "print(\"F1 score = \"+ str(f1_score(y_test, predictions, pos_label = \"attack\")))"
      ],
      "execution_count": null,
      "outputs": [
        {
          "output_type": "stream",
          "name": "stdout",
          "text": [
            "[[48 22]\n",
            " [28 36]]\n",
            "Accuracy = 0.6268656716417911\n",
            "Precision = 0.631578947368421\n",
            "Recall = 0.6857142857142857\n",
            "F1 score = 0.6575342465753424\n"
          ]
        }
      ]
    },
    {
      "cell_type": "markdown",
      "source": [
        "Create Maximum Entrophy model. Train it on lemmatized data and test the score."
      ],
      "metadata": {
        "id": "NXh7UxFGWlbK"
      }
    },
    {
      "cell_type": "code",
      "metadata": {
        "id": "FqfOzpHVfYQc",
        "colab": {
          "base_uri": "https://localhost:8080/"
        },
        "outputId": "74ddb3fb-45f3-4bfd-e90d-eb6f0b5fb191"
      },
      "source": [
        "#trzeci Maximum Entrophy\n",
        "text_clf_RF = Pipeline([('tfidf', TfidfVectorizer()),('clf', LogisticRegression(class_weight='balanced',penalty = 'none'))])\n",
        "text_clf_RF.fit(X_train,y_train)\n",
        "predictions = text_clf_RF.predict(X_test)\n",
        "predictions_train_TOK_EN = text_clf_RF.predict_proba(X_train)\n",
        "predictions_test_TOK_EN = text_clf_RF.predict_proba(X_test)\n",
        "#print(metrics.confusion_matrix(y_test, predictions))\n",
        "# Print the overall accuracy\n",
        "print(\"Accuracy = \"+str(metrics.accuracy_score(y_test, predictions)))\n",
        "print(\"Precision = \"+str(metrics.precision_score(y_test, predictions, pos_label = \"attack\")))\n",
        "print(\"Recall = \"+str(metrics.recall_score(y_test, predictions, pos_label = \"attack\")))\n",
        "# f1 score\n",
        "print(\"F1 score = \"+ str(f1_score(y_test, predictions, pos_label = \"attack\")))"
      ],
      "execution_count": null,
      "outputs": [
        {
          "output_type": "stream",
          "name": "stdout",
          "text": [
            "Accuracy = 0.7089552238805971\n",
            "Precision = 0.7066666666666667\n",
            "Recall = 0.7571428571428571\n",
            "F1 score = 0.7310344827586207\n"
          ]
        }
      ]
    },
    {
      "cell_type": "code",
      "metadata": {
        "id": "i8eW0zTpPQW9"
      },
      "source": [],
      "execution_count": null,
      "outputs": []
    },
    {
      "cell_type": "markdown",
      "source": [
        "\n",
        "# POS analysis and machine learning classification"
      ],
      "metadata": {
        "id": "TmYIJ3tvBSfw"
      }
    },
    {
      "cell_type": "markdown",
      "source": [
        "Create SVC model. Train it on POS data and test the score."
      ],
      "metadata": {
        "id": "2zm7TGGEW6Xg"
      }
    },
    {
      "cell_type": "code",
      "metadata": {
        "id": "cuHyjhxmaGGw",
        "colab": {
          "base_uri": "https://localhost:8080/"
        },
        "outputId": "1422e05b-054f-40a6-de97-2294ec2233e4"
      },
      "source": [
        "#SVC\n",
        "text_clf_svc = Pipeline([(\"custom_function spacy\", FunctionTransformer(spacy_pos)),('tfidf', TfidfVectorizer()), ('clf', svm.SVC(probability=True))])\n",
        "text_clf_svc.fit(X_train,y_train)\n",
        "predictions = text_clf_svc.predict(X_test)\n",
        "predictions_train_POS_SVC = text_clf_svc.predict_proba(X_train)\n",
        "predictions_test_POS_SVC = text_clf_svc.predict_proba(X_test)\n",
        "print(metrics.confusion_matrix(y_test, predictions))\n",
        "# Print the overall accuracy\n",
        "print(\"Accuracy = \"+str(metrics.accuracy_score(y_test, predictions)))\n",
        "print(\"Precision = \"+str(metrics.precision_score(y_test, predictions, pos_label = \"attack\")))\n",
        "print(\"Recall = \"+str(metrics.recall_score(y_test, predictions, pos_label = \"attack\")))\n",
        "# f1 score\n",
        "print(\"F1 score = \"+ str(f1_score(y_test, predictions, pos_label = \"attack\")))"
      ],
      "execution_count": null,
      "outputs": [
        {
          "output_type": "stream",
          "name": "stdout",
          "text": [
            "[[28 42]\n",
            " [13 51]]\n",
            "Accuracy = 0.5895522388059702\n",
            "Precision = 0.6829268292682927\n",
            "Recall = 0.4\n",
            "F1 score = 0.5045045045045045\n"
          ]
        }
      ]
    },
    {
      "cell_type": "markdown",
      "source": [
        "Create Multinomial Naive Bayes model. Train it on POS data and test the score."
      ],
      "metadata": {
        "id": "eEZWptTqW_kj"
      }
    },
    {
      "cell_type": "code",
      "source": [
        "#MultinomialNB \n",
        "text_clf_nb = Pipeline([(\"custom_function spacy\", FunctionTransformer(spacy_pos)),('tfidf', TfidfVectorizer()), ('clf', MultinomialNB())])\n",
        "text_clf_nb.fit(X_train,y_train)\n",
        "predictions = text_clf_nb.predict(X_test)\n",
        "predictions_train_POS_NB = text_clf_nb.predict_proba(X_train)\n",
        "predictions_test_POS_NB = text_clf_nb.predict_proba(X_test)\n",
        "print(metrics.confusion_matrix(y_test, predictions))\n",
        "# Print the overall accuracy\n",
        "print(\"Accuracy = \"+str(metrics.accuracy_score(y_test, predictions)))\n",
        "print(\"Precision = \"+str(metrics.precision_score(y_test, predictions, pos_label = \"attack\")))\n",
        "print(\"Recall = \"+str(metrics.recall_score(y_test, predictions, pos_label = \"attack\")))\n",
        "# f1 score\n",
        "print(\"F1 score = \"+ str(f1_score(y_test, predictions, pos_label = \"attack\")))"
      ],
      "metadata": {
        "id": "oD4dc3pxmr2N",
        "colab": {
          "base_uri": "https://localhost:8080/"
        },
        "outputId": "e0569ebe-1e45-420b-b134-d662bef79dbd"
      },
      "execution_count": null,
      "outputs": [
        {
          "output_type": "stream",
          "name": "stdout",
          "text": [
            "[[28 42]\n",
            " [17 47]]\n",
            "Accuracy = 0.5597014925373134\n",
            "Precision = 0.6222222222222222\n",
            "Recall = 0.4\n",
            "F1 score = 0.4869565217391305\n"
          ]
        }
      ]
    },
    {
      "cell_type": "markdown",
      "source": [
        "Create Maximum Entrophy model. Train it on POS data and test the score."
      ],
      "metadata": {
        "id": "_YGy6j-DXFwn"
      }
    },
    {
      "cell_type": "code",
      "source": [
        "#Maximum Entrophy\n",
        "text_clf_svc = Pipeline([(\"custom_function spacy\", FunctionTransformer(spacy_pos)),('tfidf', TfidfVectorizer()), ('clf', LogisticRegression( solver = 'liblinear'))])\n",
        "text_clf_svc.fit(X_train,y_train)\n",
        "predictions = text_clf_svc.predict(X_test)\n",
        "predictions_train_POS_EN = text_clf_svc.predict_proba(X_train)\n",
        "predictions_test_POS_EN = text_clf_svc.predict_proba(X_test)\n",
        "print(metrics.confusion_matrix(y_test, predictions))\n",
        "# Print the overall accuracy\n",
        "print(\"Accuracy = \"+str(metrics.accuracy_score(y_test, predictions)))\n",
        "print(\"Precision = \"+str(metrics.precision_score(y_test, predictions, pos_label = \"attack\")))\n",
        "print(\"Recall = \"+str(metrics.recall_score(y_test, predictions, pos_label = \"attack\")))\n",
        "# f1 score\n",
        "print(\"F1 score = \"+ str(f1_score(y_test, predictions, pos_label = \"attack\")))"
      ],
      "metadata": {
        "id": "j0kXbfB3wtP6",
        "colab": {
          "base_uri": "https://localhost:8080/"
        },
        "outputId": "33984bc2-f2a0-4e84-9e3d-f0e131be0c3d"
      },
      "execution_count": null,
      "outputs": [
        {
          "output_type": "stream",
          "name": "stdout",
          "text": [
            "[[34 36]\n",
            " [17 47]]\n",
            "Accuracy = 0.6044776119402985\n",
            "Precision = 0.6666666666666666\n",
            "Recall = 0.4857142857142857\n",
            "F1 score = 0.5619834710743802\n"
          ]
        }
      ]
    },
    {
      "cell_type": "markdown",
      "source": [
        "#Meta models using \"stacking\" - that means joining results from previous lemma and POS classification and using another model to predict class based on the results of previous models."
      ],
      "metadata": {
        "id": "0srfKb5eXLgZ"
      }
    },
    {
      "cell_type": "markdown",
      "source": [
        "Create meta model train and test set"
      ],
      "metadata": {
        "id": "UNPoEe0IXbye"
      }
    },
    {
      "cell_type": "code",
      "source": [
        "new_train=pd.merge(pd.DataFrame(predictions_train_POS_EN[:,0],columns=['POS']),pd.DataFrame(predictions_train_TOK_EN[:,0],columns=['ADU']),left_index=True, right_index=True)\n",
        "new_test = pd.merge(pd.DataFrame(predictions_test_POS_EN[:,0],columns=['POS']),pd.DataFrame(predictions_test_TOK_EN[:,0],columns=['ADU']),left_index=True, right_index=True)"
      ],
      "metadata": {
        "id": "ZcAMqUEEBfhz"
      },
      "execution_count": null,
      "outputs": []
    },
    {
      "cell_type": "code",
      "source": [
        "new_train"
      ],
      "metadata": {
        "id": "zUY6mXa5F5NE",
        "colab": {
          "base_uri": "https://localhost:8080/",
          "height": 424
        },
        "outputId": "a44a2949-6b78-45f1-8d7c-d74f87d01026"
      },
      "execution_count": null,
      "outputs": [
        {
          "output_type": "execute_result",
          "data": {
            "text/plain": [
              "          POS           ADU\n",
              "0    0.398763  9.999902e-01\n",
              "1    0.621809  9.999885e-01\n",
              "2    0.388300  1.858415e-07\n",
              "3    0.357963  2.639045e-06\n",
              "4    0.331062  9.253205e-07\n",
              "..        ...           ...\n",
              "261  0.543435  1.000000e+00\n",
              "262  0.371840  9.999993e-01\n",
              "263  0.406486  1.174838e-12\n",
              "264  0.600119  3.944924e-10\n",
              "265  0.415312  9.999782e-01\n",
              "\n",
              "[266 rows x 2 columns]"
            ],
            "text/html": [
              "\n",
              "  <div id=\"df-c4551169-7aba-4147-854d-76add691163e\">\n",
              "    <div class=\"colab-df-container\">\n",
              "      <div>\n",
              "<style scoped>\n",
              "    .dataframe tbody tr th:only-of-type {\n",
              "        vertical-align: middle;\n",
              "    }\n",
              "\n",
              "    .dataframe tbody tr th {\n",
              "        vertical-align: top;\n",
              "    }\n",
              "\n",
              "    .dataframe thead th {\n",
              "        text-align: right;\n",
              "    }\n",
              "</style>\n",
              "<table border=\"1\" class=\"dataframe\">\n",
              "  <thead>\n",
              "    <tr style=\"text-align: right;\">\n",
              "      <th></th>\n",
              "      <th>POS</th>\n",
              "      <th>ADU</th>\n",
              "    </tr>\n",
              "  </thead>\n",
              "  <tbody>\n",
              "    <tr>\n",
              "      <th>0</th>\n",
              "      <td>0.398763</td>\n",
              "      <td>9.999902e-01</td>\n",
              "    </tr>\n",
              "    <tr>\n",
              "      <th>1</th>\n",
              "      <td>0.621809</td>\n",
              "      <td>9.999885e-01</td>\n",
              "    </tr>\n",
              "    <tr>\n",
              "      <th>2</th>\n",
              "      <td>0.388300</td>\n",
              "      <td>1.858415e-07</td>\n",
              "    </tr>\n",
              "    <tr>\n",
              "      <th>3</th>\n",
              "      <td>0.357963</td>\n",
              "      <td>2.639045e-06</td>\n",
              "    </tr>\n",
              "    <tr>\n",
              "      <th>4</th>\n",
              "      <td>0.331062</td>\n",
              "      <td>9.253205e-07</td>\n",
              "    </tr>\n",
              "    <tr>\n",
              "      <th>...</th>\n",
              "      <td>...</td>\n",
              "      <td>...</td>\n",
              "    </tr>\n",
              "    <tr>\n",
              "      <th>261</th>\n",
              "      <td>0.543435</td>\n",
              "      <td>1.000000e+00</td>\n",
              "    </tr>\n",
              "    <tr>\n",
              "      <th>262</th>\n",
              "      <td>0.371840</td>\n",
              "      <td>9.999993e-01</td>\n",
              "    </tr>\n",
              "    <tr>\n",
              "      <th>263</th>\n",
              "      <td>0.406486</td>\n",
              "      <td>1.174838e-12</td>\n",
              "    </tr>\n",
              "    <tr>\n",
              "      <th>264</th>\n",
              "      <td>0.600119</td>\n",
              "      <td>3.944924e-10</td>\n",
              "    </tr>\n",
              "    <tr>\n",
              "      <th>265</th>\n",
              "      <td>0.415312</td>\n",
              "      <td>9.999782e-01</td>\n",
              "    </tr>\n",
              "  </tbody>\n",
              "</table>\n",
              "<p>266 rows × 2 columns</p>\n",
              "</div>\n",
              "      <button class=\"colab-df-convert\" onclick=\"convertToInteractive('df-c4551169-7aba-4147-854d-76add691163e')\"\n",
              "              title=\"Convert this dataframe to an interactive table.\"\n",
              "              style=\"display:none;\">\n",
              "        \n",
              "  <svg xmlns=\"http://www.w3.org/2000/svg\" height=\"24px\"viewBox=\"0 0 24 24\"\n",
              "       width=\"24px\">\n",
              "    <path d=\"M0 0h24v24H0V0z\" fill=\"none\"/>\n",
              "    <path d=\"M18.56 5.44l.94 2.06.94-2.06 2.06-.94-2.06-.94-.94-2.06-.94 2.06-2.06.94zm-11 1L8.5 8.5l.94-2.06 2.06-.94-2.06-.94L8.5 2.5l-.94 2.06-2.06.94zm10 10l.94 2.06.94-2.06 2.06-.94-2.06-.94-.94-2.06-.94 2.06-2.06.94z\"/><path d=\"M17.41 7.96l-1.37-1.37c-.4-.4-.92-.59-1.43-.59-.52 0-1.04.2-1.43.59L10.3 9.45l-7.72 7.72c-.78.78-.78 2.05 0 2.83L4 21.41c.39.39.9.59 1.41.59.51 0 1.02-.2 1.41-.59l7.78-7.78 2.81-2.81c.8-.78.8-2.07 0-2.86zM5.41 20L4 18.59l7.72-7.72 1.47 1.35L5.41 20z\"/>\n",
              "  </svg>\n",
              "      </button>\n",
              "      \n",
              "  <style>\n",
              "    .colab-df-container {\n",
              "      display:flex;\n",
              "      flex-wrap:wrap;\n",
              "      gap: 12px;\n",
              "    }\n",
              "\n",
              "    .colab-df-convert {\n",
              "      background-color: #E8F0FE;\n",
              "      border: none;\n",
              "      border-radius: 50%;\n",
              "      cursor: pointer;\n",
              "      display: none;\n",
              "      fill: #1967D2;\n",
              "      height: 32px;\n",
              "      padding: 0 0 0 0;\n",
              "      width: 32px;\n",
              "    }\n",
              "\n",
              "    .colab-df-convert:hover {\n",
              "      background-color: #E2EBFA;\n",
              "      box-shadow: 0px 1px 2px rgba(60, 64, 67, 0.3), 0px 1px 3px 1px rgba(60, 64, 67, 0.15);\n",
              "      fill: #174EA6;\n",
              "    }\n",
              "\n",
              "    [theme=dark] .colab-df-convert {\n",
              "      background-color: #3B4455;\n",
              "      fill: #D2E3FC;\n",
              "    }\n",
              "\n",
              "    [theme=dark] .colab-df-convert:hover {\n",
              "      background-color: #434B5C;\n",
              "      box-shadow: 0px 1px 3px 1px rgba(0, 0, 0, 0.15);\n",
              "      filter: drop-shadow(0px 1px 2px rgba(0, 0, 0, 0.3));\n",
              "      fill: #FFFFFF;\n",
              "    }\n",
              "  </style>\n",
              "\n",
              "      <script>\n",
              "        const buttonEl =\n",
              "          document.querySelector('#df-c4551169-7aba-4147-854d-76add691163e button.colab-df-convert');\n",
              "        buttonEl.style.display =\n",
              "          google.colab.kernel.accessAllowed ? 'block' : 'none';\n",
              "\n",
              "        async function convertToInteractive(key) {\n",
              "          const element = document.querySelector('#df-c4551169-7aba-4147-854d-76add691163e');\n",
              "          const dataTable =\n",
              "            await google.colab.kernel.invokeFunction('convertToInteractive',\n",
              "                                                     [key], {});\n",
              "          if (!dataTable) return;\n",
              "\n",
              "          const docLinkHtml = 'Like what you see? Visit the ' +\n",
              "            '<a target=\"_blank\" href=https://colab.research.google.com/notebooks/data_table.ipynb>data table notebook</a>'\n",
              "            + ' to learn more about interactive tables.';\n",
              "          element.innerHTML = '';\n",
              "          dataTable['output_type'] = 'display_data';\n",
              "          await google.colab.output.renderOutput(dataTable, element);\n",
              "          const docLink = document.createElement('div');\n",
              "          docLink.innerHTML = docLinkHtml;\n",
              "          element.appendChild(docLink);\n",
              "        }\n",
              "      </script>\n",
              "    </div>\n",
              "  </div>\n",
              "  "
            ]
          },
          "metadata": {},
          "execution_count": 64
        }
      ]
    },
    {
      "cell_type": "markdown",
      "source": [
        "Create SVC model. Train it on meta data and test the score."
      ],
      "metadata": {
        "id": "Jze32r6cXgO2"
      }
    },
    {
      "cell_type": "code",
      "source": [
        "#SVC\n",
        "text_clf_svc_new = svm.SVC(random_state=432, class_weight='balanced')\n",
        "text_clf_svc_new.fit(new_train,y_train)\n",
        "predictions = text_clf_svc_new.predict(new_test)\n",
        "print(metrics.confusion_matrix(y_test, predictions))\n",
        "# Print the overall accuracy\n",
        "print(\"Accuracy = \"+str(metrics.accuracy_score(y_test, predictions)))\n",
        "print(\"Precision = \"+str(metrics.precision_score(y_test, predictions, pos_label = \"attack\")))\n",
        "print(\"Recall = \"+str(metrics.recall_score(y_test, predictions, pos_label = \"attack\")))\n",
        "# f1 score\n",
        "print(\"F1 score = \"+ str(f1_score(y_test, predictions, pos_label = \"attack\")))"
      ],
      "metadata": {
        "id": "e0sthwy_Ckts",
        "colab": {
          "base_uri": "https://localhost:8080/"
        },
        "outputId": "e9205fbb-cf68-4749-f05c-29598382c77e"
      },
      "execution_count": null,
      "outputs": [
        {
          "output_type": "stream",
          "name": "stdout",
          "text": [
            "[[53 17]\n",
            " [22 42]]\n",
            "Accuracy = 0.7089552238805971\n",
            "Precision = 0.7066666666666667\n",
            "Recall = 0.7571428571428571\n",
            "F1 score = 0.7310344827586207\n"
          ]
        }
      ]
    },
    {
      "cell_type": "markdown",
      "source": [
        "Create Multinomial Naive Bayes model. Train it on POS data and test the score."
      ],
      "metadata": {
        "id": "UsJ6nHx-XlPd"
      }
    },
    {
      "cell_type": "code",
      "source": [
        "#NB\n",
        "text_clf_svc_new = MultinomialNB()\n",
        "text_clf_svc_new.fit(new_train,y_train)\n",
        "predictions = text_clf_svc_new.predict(new_test)\n",
        "print(metrics.confusion_matrix(y_test, predictions))\n",
        "# Print the overall accuracy\n",
        "print(\"Accuracy = \"+str(metrics.accuracy_score(y_test, predictions)))\n",
        "print(\"Precision = \"+str(metrics.precision_score(y_test, predictions, pos_label = \"attack\")))\n",
        "print(\"Recall = \"+str(metrics.recall_score(y_test, predictions, pos_label = \"attack\")))\n",
        "# f1 score\n",
        "print(\"F1 score = \"+ str(f1_score(y_test, predictions, pos_label = \"attack\")))"
      ],
      "metadata": {
        "id": "Mdx4Tzf8mhdC",
        "colab": {
          "base_uri": "https://localhost:8080/"
        },
        "outputId": "daf99661-0618-4ceb-d3bc-9f94e996879a"
      },
      "execution_count": null,
      "outputs": [
        {
          "output_type": "stream",
          "name": "stdout",
          "text": [
            "[[57 13]\n",
            " [25 39]]\n",
            "Accuracy = 0.7164179104477612\n",
            "Precision = 0.6951219512195121\n",
            "Recall = 0.8142857142857143\n",
            "F1 score = 0.75\n"
          ]
        }
      ]
    },
    {
      "cell_type": "markdown",
      "source": [
        "Create Maximum Entrophy model. Train it on meta data and test the score."
      ],
      "metadata": {
        "id": "jR6YhprwXp4p"
      }
    },
    {
      "cell_type": "code",
      "source": [
        "#Maximum Entrophy\n",
        "text_clf_svc_new = LogisticRegression(class_weight='balanced', penalty = 'none', random_state=4132)\n",
        "text_clf_svc_new.fit(new_train,y_train)\n",
        "predictions = text_clf_svc_new.predict(new_test)\n",
        "print(metrics.confusion_matrix(y_test, predictions))\n",
        "# Print the overall accuracy\n",
        "print(\"Accuracy = \"+str(metrics.accuracy_score(y_test, predictions)))\n",
        "print(\"Precision = \"+str(metrics.precision_score(y_test, predictions, pos_label = \"attack\")))\n",
        "print(\"Recall = \"+str(metrics.recall_score(y_test, predictions, pos_label = \"attack\")))\n",
        "# f1 score\n",
        "print(\"F1 score = \"+ str(f1_score(y_test, predictions, pos_label = \"attack\")))"
      ],
      "metadata": {
        "id": "coZrFGrelMbH",
        "colab": {
          "base_uri": "https://localhost:8080/"
        },
        "outputId": "2d01e258-f630-4bbb-9f68-1be5f7aa0639"
      },
      "execution_count": null,
      "outputs": [
        {
          "output_type": "stream",
          "name": "stdout",
          "text": [
            "[[53 17]\n",
            " [22 42]]\n",
            "Accuracy = 0.7089552238805971\n",
            "Precision = 0.7066666666666667\n",
            "Recall = 0.7571428571428571\n",
            "F1 score = 0.7310344827586207\n"
          ]
        }
      ]
    },
    {
      "cell_type": "code",
      "source": [],
      "metadata": {
        "id": "bG-E3EL7kLa4"
      },
      "execution_count": null,
      "outputs": []
    }
  ]
}